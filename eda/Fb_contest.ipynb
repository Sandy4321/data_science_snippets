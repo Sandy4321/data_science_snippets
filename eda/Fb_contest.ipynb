{
 "cells": [
  {
   "cell_type": "code",
   "execution_count": 11,
   "metadata": {
    "collapsed": false
   },
   "outputs": [],
   "source": [
    "import pandas as pd\n",
    "import numpy as np\n",
    "import matplotlib.pyplot as plt\n",
    "%matplotlib inline\n",
    "plt.style.use('ggplot')"
   ]
  },
  {
   "cell_type": "code",
   "execution_count": 20,
   "metadata": {
    "collapsed": true
   },
   "outputs": [],
   "source": [
    "data = pd.read_csv('../data/train_fb.csv', index_col='row_id')"
   ]
  },
  {
   "cell_type": "code",
   "execution_count": 21,
   "metadata": {
    "collapsed": false
   },
   "outputs": [
    {
     "data": {
      "text/html": [
       "<div>\n",
       "<table border=\"1\" class=\"dataframe\">\n",
       "  <thead>\n",
       "    <tr style=\"text-align: right;\">\n",
       "      <th></th>\n",
       "      <th>x</th>\n",
       "      <th>y</th>\n",
       "      <th>accuracy</th>\n",
       "      <th>time</th>\n",
       "      <th>place_id</th>\n",
       "    </tr>\n",
       "    <tr>\n",
       "      <th>row_id</th>\n",
       "      <th></th>\n",
       "      <th></th>\n",
       "      <th></th>\n",
       "      <th></th>\n",
       "      <th></th>\n",
       "    </tr>\n",
       "  </thead>\n",
       "  <tbody>\n",
       "    <tr>\n",
       "      <th>0</th>\n",
       "      <td>0.7941</td>\n",
       "      <td>9.0809</td>\n",
       "      <td>54</td>\n",
       "      <td>470702</td>\n",
       "      <td>8523065625</td>\n",
       "    </tr>\n",
       "    <tr>\n",
       "      <th>1</th>\n",
       "      <td>5.9567</td>\n",
       "      <td>4.7968</td>\n",
       "      <td>13</td>\n",
       "      <td>186555</td>\n",
       "      <td>1757726713</td>\n",
       "    </tr>\n",
       "    <tr>\n",
       "      <th>2</th>\n",
       "      <td>8.3078</td>\n",
       "      <td>7.0407</td>\n",
       "      <td>74</td>\n",
       "      <td>322648</td>\n",
       "      <td>1137537235</td>\n",
       "    </tr>\n",
       "    <tr>\n",
       "      <th>3</th>\n",
       "      <td>7.3665</td>\n",
       "      <td>2.5165</td>\n",
       "      <td>65</td>\n",
       "      <td>704587</td>\n",
       "      <td>6567393236</td>\n",
       "    </tr>\n",
       "    <tr>\n",
       "      <th>4</th>\n",
       "      <td>4.0961</td>\n",
       "      <td>1.1307</td>\n",
       "      <td>31</td>\n",
       "      <td>472130</td>\n",
       "      <td>7440663949</td>\n",
       "    </tr>\n",
       "  </tbody>\n",
       "</table>\n",
       "</div>"
      ],
      "text/plain": [
       "             x       y  accuracy    time    place_id\n",
       "row_id                                              \n",
       "0       0.7941  9.0809        54  470702  8523065625\n",
       "1       5.9567  4.7968        13  186555  1757726713\n",
       "2       8.3078  7.0407        74  322648  1137537235\n",
       "3       7.3665  2.5165        65  704587  6567393236\n",
       "4       4.0961  1.1307        31  472130  7440663949"
      ]
     },
     "execution_count": 21,
     "metadata": {},
     "output_type": "execute_result"
    }
   ],
   "source": [
    "data.head()"
   ]
  },
  {
   "cell_type": "code",
   "execution_count": 22,
   "metadata": {
    "collapsed": false
   },
   "outputs": [
    {
     "data": {
      "text/html": [
       "<div>\n",
       "<table border=\"1\" class=\"dataframe\">\n",
       "  <thead>\n",
       "    <tr style=\"text-align: right;\">\n",
       "      <th></th>\n",
       "      <th>x</th>\n",
       "      <th>y</th>\n",
       "      <th>accuracy</th>\n",
       "      <th>time</th>\n",
       "      <th>place_id</th>\n",
       "    </tr>\n",
       "  </thead>\n",
       "  <tbody>\n",
       "    <tr>\n",
       "      <th>count</th>\n",
       "      <td>2.911802e+07</td>\n",
       "      <td>2.911802e+07</td>\n",
       "      <td>2.911802e+07</td>\n",
       "      <td>2.911802e+07</td>\n",
       "      <td>2.911802e+07</td>\n",
       "    </tr>\n",
       "    <tr>\n",
       "      <th>mean</th>\n",
       "      <td>4.999770e+00</td>\n",
       "      <td>5.001814e+00</td>\n",
       "      <td>8.284912e+01</td>\n",
       "      <td>4.170104e+05</td>\n",
       "      <td>5.493787e+09</td>\n",
       "    </tr>\n",
       "    <tr>\n",
       "      <th>std</th>\n",
       "      <td>2.857601e+00</td>\n",
       "      <td>2.887505e+00</td>\n",
       "      <td>1.147518e+02</td>\n",
       "      <td>2.311761e+05</td>\n",
       "      <td>2.611088e+09</td>\n",
       "    </tr>\n",
       "    <tr>\n",
       "      <th>min</th>\n",
       "      <td>0.000000e+00</td>\n",
       "      <td>0.000000e+00</td>\n",
       "      <td>1.000000e+00</td>\n",
       "      <td>1.000000e+00</td>\n",
       "      <td>1.000016e+09</td>\n",
       "    </tr>\n",
       "    <tr>\n",
       "      <th>25%</th>\n",
       "      <td>2.534700e+00</td>\n",
       "      <td>2.496700e+00</td>\n",
       "      <td>2.700000e+01</td>\n",
       "      <td>2.030570e+05</td>\n",
       "      <td>3.222911e+09</td>\n",
       "    </tr>\n",
       "    <tr>\n",
       "      <th>50%</th>\n",
       "      <td>5.009100e+00</td>\n",
       "      <td>4.988300e+00</td>\n",
       "      <td>6.200000e+01</td>\n",
       "      <td>4.339220e+05</td>\n",
       "      <td>5.518573e+09</td>\n",
       "    </tr>\n",
       "    <tr>\n",
       "      <th>75%</th>\n",
       "      <td>7.461400e+00</td>\n",
       "      <td>7.510300e+00</td>\n",
       "      <td>7.500000e+01</td>\n",
       "      <td>6.204910e+05</td>\n",
       "      <td>7.764307e+09</td>\n",
       "    </tr>\n",
       "    <tr>\n",
       "      <th>max</th>\n",
       "      <td>1.000000e+01</td>\n",
       "      <td>1.000000e+01</td>\n",
       "      <td>1.033000e+03</td>\n",
       "      <td>7.862390e+05</td>\n",
       "      <td>9.999932e+09</td>\n",
       "    </tr>\n",
       "  </tbody>\n",
       "</table>\n",
       "</div>"
      ],
      "text/plain": [
       "                  x             y      accuracy          time      place_id\n",
       "count  2.911802e+07  2.911802e+07  2.911802e+07  2.911802e+07  2.911802e+07\n",
       "mean   4.999770e+00  5.001814e+00  8.284912e+01  4.170104e+05  5.493787e+09\n",
       "std    2.857601e+00  2.887505e+00  1.147518e+02  2.311761e+05  2.611088e+09\n",
       "min    0.000000e+00  0.000000e+00  1.000000e+00  1.000000e+00  1.000016e+09\n",
       "25%    2.534700e+00  2.496700e+00  2.700000e+01  2.030570e+05  3.222911e+09\n",
       "50%    5.009100e+00  4.988300e+00  6.200000e+01  4.339220e+05  5.518573e+09\n",
       "75%    7.461400e+00  7.510300e+00  7.500000e+01  6.204910e+05  7.764307e+09\n",
       "max    1.000000e+01  1.000000e+01  1.033000e+03  7.862390e+05  9.999932e+09"
      ]
     },
     "execution_count": 22,
     "metadata": {},
     "output_type": "execute_result"
    }
   ],
   "source": [
    "data.describe()"
   ]
  },
  {
   "cell_type": "code",
   "execution_count": 24,
   "metadata": {
    "collapsed": false
   },
   "outputs": [
    {
     "data": {
      "text/plain": [
       "(29118021, 5)"
      ]
     },
     "execution_count": 24,
     "metadata": {},
     "output_type": "execute_result"
    }
   ],
   "source": [
    "# (29118021, 5) for full train dataset\n",
    "data.shape"
   ]
  },
  {
   "cell_type": "code",
   "execution_count": null,
   "metadata": {
    "collapsed": true
   },
   "outputs": [],
   "source": [
    "# Looks almost uniform distributes :(\n",
    "plt.figure(figsize=(12, 12))\n",
    "plt.scatter(data['x'], data['y'], c=data['place_id'], cmap='Set1', alpha=0.7)\n",
    "plt.show()"
   ]
  },
  {
   "cell_type": "code",
   "execution_count": 29,
   "metadata": {
    "collapsed": false
   },
   "outputs": [
    {
     "name": "stdout",
     "output_type": "stream",
     "text": [
      "Number of categiries: 108390\n"
     ]
    }
   ],
   "source": [
    "# 108390 categories for full dataset\n",
    "print('Number of categiries: {0}'.format(len(data['place_id'].unique())))"
   ]
  },
  {
   "cell_type": "code",
   "execution_count": 31,
   "metadata": {
    "collapsed": false
   },
   "outputs": [],
   "source": [
    "counted_values = data['place_id'].value_counts()"
   ]
  },
  {
   "cell_type": "code",
   "execution_count": 42,
   "metadata": {
    "collapsed": false
   },
   "outputs": [
    {
     "name": "stdout",
     "output_type": "stream",
     "text": [
      "Number of categories that occures more than 1000 times: 3734\n"
     ]
    }
   ],
   "source": [
    "num = 0\n",
    "for key, val in counted_values.iteritems():\n",
    "    if val < 1000:\n",
    "        break\n",
    "    num += 1\n",
    "        \n",
    "print('Number of categories that occures more than 1000 times: {0}').format(num)"
   ]
  },
  {
   "cell_type": "markdown",
   "metadata": {},
   "source": [
    "Number of categories that occures more or equal than:\n",
    "* 10 times: 107189\n",
    "* 100 times: 80167\n",
    "* 1000 times: 3734"
   ]
  },
  {
   "cell_type": "code",
   "execution_count": 55,
   "metadata": {
    "collapsed": false
   },
   "outputs": [
    {
     "data": {
      "image/png": "[encoded data removed]",
      "text/plain": [
       "<matplotlib.figure.Figure at 0x8bf2320>"
      ]
     },
     "metadata": {},
     "output_type": "display_data"
    }
   ],
   "source": [
    "nrows = 10000\n",
    "ids = [8523065625, 1757726713, 1137537235, 6567393236, 7440663949]\n",
    "colors = ['red', 'green', 'blue', 'orange', 'purple']\n",
    "\n",
    "for i, c in zip(ids, colors):\n",
    "    plot_data = data[data['place_id'] == i]\n",
    "    plt.scatter(plot_data['x'][:nrows], plot_data['y'][:nrows],\n",
    "                color=c, alpha=0.4)"
   ]
  },
  {
   "cell_type": "markdown",
   "metadata": {},
   "source": [
    "First 5 places are separated by **y** coord."
   ]
  },
  {
   "cell_type": "code",
   "execution_count": 56,
   "metadata": {
    "collapsed": false
   },
   "outputs": [
    {
     "data": {
      "image/png": "[encoded data removed]",
      "text/plain": [
       "<matplotlib.figure.Figure at 0xe196dd8>"
      ]
     },
     "metadata": {},
     "output_type": "display_data"
    }
   ],
   "source": [
    "nrows = 10000\n",
    "ids = [8523065625, 1757726713, 1137537235, 6567393236, 7440663949]\n",
    "colors = ['red', 'green', 'blue', 'orange', 'purple']\n",
    "\n",
    "for i, c in zip(ids, colors):\n",
    "    plot_data = data[data['place_id'] == i]\n",
    "    plt.scatter(plot_data['x'][:nrows], plot_data['time'][:nrows],\n",
    "                color=c, alpha=0.4)"
   ]
  },
  {
   "cell_type": "markdown",
   "metadata": {},
   "source": [
    "And by **time**."
   ]
  }
 ],
 "metadata": {
  "kernelspec": {
   "display_name": "Python 2",
   "language": "python",
   "name": "python2"
  },
  "language_info": {
   "codemirror_mode": {
    "name": "ipython",
    "version": 2
   },
   "file_extension": ".py",
   "mimetype": "text/x-python",
   "name": "python",
   "nbconvert_exporter": "python",
   "pygments_lexer": "ipython2",
   "version": "2.7.11"
  }
 },
 "nbformat": 4,
 "nbformat_minor": 0
}
