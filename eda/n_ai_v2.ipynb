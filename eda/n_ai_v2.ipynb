{
 "cells": [
  {
   "cell_type": "code",
   "execution_count": 1,
   "metadata": {
    "collapsed": false
   },
   "outputs": [
    {
     "name": "stderr",
     "output_type": "stream",
     "text": [
      "D:\\soft\\dev\\anaconda\\lib\\site-packages\\pandas\\computation\\__init__.py:19: UserWarning: The installed version of numexpr 2.4.4 is not supported in pandas and will be not be used\n",
      "\n",
      "  UserWarning)\n"
     ]
    }
   ],
   "source": [
    "# imports and configs\n",
    "\n",
    "import pandas as pd\n",
    "import numpy as np\n",
    "import matplotlib.pyplot as plt\n",
    "from sklearn.metrics import log_loss\n",
    "from sklearn.cross_validation import train_test_split\n",
    "from sklearn.preprocessing import normalize\n",
    "from sklearn.grid_search import GridSearchCV\n",
    "\n",
    "import xgboost as xgb\n",
    "\n",
    "from sklearn.ensemble import RandomForestClassifier\n",
    "from sklearn.linear_model import LogisticRegression\n",
    "\n",
    "from sklearn.metrics import accuracy_score\n",
    "%matplotlib inline\n",
    "plt.style.use('ggplot')\n",
    "\n",
    "random_state = 42\n",
    "normalize_data = True"
   ]
  },
  {
   "cell_type": "code",
   "execution_count": 2,
   "metadata": {
    "collapsed": true
   },
   "outputs": [],
   "source": [
    "def grid_search_clf(clf_to_train, param_grid, X_train, y_train, show=False):\n",
    "    clf = GridSearchCV(estimator=clf_to_train, param_grid=param_grid,\n",
    "                   n_jobs=-1, scoring='log_loss', verbose=True)\n",
    "    clf.fit(X_train, y_train)\n",
    "    if show:\n",
    "        print('best score: {0}'.format(clf.best_score_))\n",
    "        print('best estimator:')\n",
    "        print(clf.best_estimator_)\n",
    "    return clf\n",
    "\n",
    "def clf_score(clf, X_test, y_test):\n",
    "    clf_probs = clf.predict_proba(X_test)\n",
    "    return log_loss(y_test, clf_probs)\n",
    "\n",
    "def get_ans(clf, X, y, X_real, index_col ,transform=False):\n",
    "    clf.fit(X, y)\n",
    "    tmp_pred = clf.predict_proba(X_real)\n",
    "    pred = [it[1] for it in tmp_pred]\n",
    "    ans = index_col.copy()\n",
    "    ans['probability'] = pred\n",
    "    return ans\n",
    "\n",
    "def normalize_df(df, cols_to_norm):\n",
    "    return df[cols_to_norm].apply(lambda x: (x - x.mean()) / (x.max() - x.min()))"
   ]
  },
  {
   "cell_type": "code",
   "execution_count": 4,
   "metadata": {
    "collapsed": false
   },
   "outputs": [],
   "source": [
    "# read data\n",
    "train_file = './../data/nai_train_6.csv'\n",
    "test_file = './../data/nai_test_6.csv'\n",
    "\n",
    "data = pd.read_csv(train_file)\n",
    "test_data = pd.read_csv(test_file)\n",
    "X = data.drop(['target'], axis=1)\n",
    "y = data['target']\n",
    "\n",
    "X_real = test_data.drop(['t_id'], axis=1)\n",
    "id_real = pd.DataFrame(test_data['t_id'].copy())\n",
    "\n",
    "if normalize_data:\n",
    "    X = normalize_df(X, X.columns)\n",
    "    X_real = normalize_df(X_real, X_real.columns)"
   ]
  },
  {
   "cell_type": "code",
   "execution_count": 4,
   "metadata": {
    "collapsed": false
   },
   "outputs": [],
   "source": [
    "X_train, X_test, y_train, y_test = train_test_split(\n",
    "    X, y, test_size=0.20, random_state=random_state)"
   ]
  },
  {
   "cell_type": "code",
   "execution_count": 5,
   "metadata": {
    "collapsed": false
   },
   "outputs": [
    {
     "name": "stderr",
     "output_type": "stream",
     "text": [
      "[Parallel(n_jobs=-1)]: Done  42 tasks      | elapsed:    5.6s\n",
      "[Parallel(n_jobs=-1)]: Done 192 tasks      | elapsed:   27.6s\n",
      "[Parallel(n_jobs=-1)]: Done 442 tasks      | elapsed:  1.2min\n",
      "[Parallel(n_jobs=-1)]: Done 792 tasks      | elapsed:  2.2min\n",
      "[Parallel(n_jobs=-1)]: Done 1242 tasks      | elapsed:  3.6min\n",
      "[Parallel(n_jobs=-1)]: Done 1792 tasks      | elapsed:  5.2min\n",
      "[Parallel(n_jobs=-1)]: Done 2442 tasks      | elapsed:  7.2min\n",
      "[Parallel(n_jobs=-1)]: Done 3192 tasks      | elapsed:  9.4min\n",
      "[Parallel(n_jobs=-1)]: Done 4042 tasks      | elapsed: 11.9min\n",
      "[Parallel(n_jobs=-1)]: Done 4050 out of 4050 | elapsed: 11.9min finished\n"
     ]
    },
    {
     "name": "stdout",
     "output_type": "stream",
     "text": [
      "Fitting 3 folds for each of 1350 candidates, totalling 4050 fits\n",
      "best score: -0.691662850386\n",
      "best estimator:\n",
      "LogisticRegression(C=10.204171428571428, class_weight=None, dual=False,\n",
      "          fit_intercept=True, intercept_scaling=1, max_iter=1000,\n",
      "          multi_class='ovr', n_jobs=-1, penalty='l2', random_state=42,\n",
      "          solver='sag', tol=0.1, verbose=0, warm_start=False)\n",
      "Done with log reg\n",
      "\n",
      "\n",
      "==========================\n",
      "\n",
      "\n"
     ]
    }
   ],
   "source": [
    "# Log Regression on scaled data\n",
    "clf_log_reg = LogisticRegression(random_state=random_state, n_jobs=-1, max_iter=1000)\n",
    "\n",
    "X = normalize_df(X, X.columns)\n",
    "X_train, X_test, y_train, y_test = train_test_split(\n",
    "    X, y, test_size=0.20, random_state=random_state)\n",
    "\n",
    "X_real = test_data.drop(['t_id'], axis=1)\n",
    "X_real = normalize_df(X_real, X_real.columns)\n",
    "id_real = pd.DataFrame(test_data['t_id'].copy())\n",
    "\n",
    "\n",
    "param_grid = {\n",
    "    'penalty' : ['l2'], # 'l1'\n",
    "    'C': np.linspace(0.0001, 100.0, 50),\n",
    "    'tol': [0.00001, 0.0001, 0.0005, 0.001, 0.01, 0.1, 1, 10, 100],\n",
    "    'solver': ['newton-cg', 'lbfgs', 'sag']\n",
    "}\n",
    "\n",
    "# clf = grid_search_clf(clf_log_reg, param_grid, X_train, y_train, show=True)\n",
    "clf = grid_search_clf(clf_log_reg, param_grid, X, y, show=True)\n",
    "# print('log_loss: {0}'.format(clf_score(clf, X_test, y_test)))\n",
    "\n",
    "print \"Done with log reg\"\n",
    "print \"\\n\\n==========================\\n\\n\""
   ]
  },
  {
   "cell_type": "code",
   "execution_count": 7,
   "metadata": {
    "collapsed": false
   },
   "outputs": [],
   "source": [
    "clf = LogisticRegression(C=10.204171428571428, class_weight=None, dual=False,\n",
    "          fit_intercept=True, intercept_scaling=1, max_iter=1000,\n",
    "          multi_class='ovr', n_jobs=-1, penalty='l2', random_state=42,\n",
    "          solver='sag', tol=0.1, verbose=0, warm_start=False)\n",
    "\n",
    "X = normalize_df(X, X.columns)\n",
    "X_real = test_data.drop(['t_id'], axis=1)\n",
    "X_real = normalize_df(X_real, X_real.columns)\n",
    "id_real = pd.DataFrame(test_data['t_id'].copy())\n",
    "\n",
    "ans = get_ans(clf, X, y, X_real, id_real)\n",
    "ans.to_csv('test_ans.csv', index=False)"
   ]
  },
  {
   "cell_type": "markdown",
   "metadata": {},
   "source": [
    "# SGD"
   ]
  },
  {
   "cell_type": "code",
   "execution_count": 17,
   "metadata": {
    "collapsed": false
   },
   "outputs": [
    {
     "name": "stderr",
     "output_type": "stream",
     "text": [
      "[Parallel(n_jobs=-1)]: Done  42 tasks      | elapsed:   22.1s\n",
      "[Parallel(n_jobs=-1)]: Done 192 tasks      | elapsed:  1.7min\n",
      "[Parallel(n_jobs=-1)]: Done 240 out of 240 | elapsed:  2.1min finished\n"
     ]
    },
    {
     "name": "stdout",
     "output_type": "stream",
     "text": [
      "Fitting 3 folds for each of 80 candidates, totalling 240 fits\n",
      "best score: -0.691755937635\n",
      "best estimator:\n",
      "SGDClassifier(alpha=0.0001, average=False, class_weight=None, epsilon=0.1,\n",
      "       eta0=0.0, fit_intercept=True, l1_ratio=0.001,\n",
      "       learning_rate='optimal', loss='log', n_iter=100, n_jobs=-1,\n",
      "       penalty='l1', power_t=0.5, random_state=42, shuffle=True, verbose=0,\n",
      "       warm_start=False)\n",
      "Done with log reg\n",
      "\n",
      "\n",
      "==========================\n",
      "\n",
      "\n"
     ]
    }
   ],
   "source": [
    "# SGD on scaled data\n",
    "from sklearn.linear_model import SGDClassifier\n",
    "\n",
    "sgd_clf = SGDClassifier(loss='log', random_state=random_state, n_jobs=-1,\n",
    "                       n_iter=100)\n",
    "\n",
    "X = normalize_df(X, X.columns)\n",
    "X_train, X_test, y_train, y_test = train_test_split(\n",
    "    X, y, test_size=0.20, random_state=random_state)\n",
    "\n",
    "X_real = test_data.drop(['t_id'], axis=1)\n",
    "X_real = normalize_df(X_real, X_real.columns)\n",
    "id_real = pd.DataFrame(test_data['t_id'].copy())\n",
    "\n",
    "\n",
    "param_grid = {\n",
    "    'loss' : ['log', 'modified_huber'],\n",
    "    'penalty': ['none', 'l1', 'l2', 'elasticnet'],\n",
    "#     'alpha': np.linspace(0.000001, 0.0001, 50),\n",
    "    'l1_ratio': [0.001, 0.1, 0.03, 0.07, 0.15, 0.3, 0.5, 0.7, 0.9, 1],\n",
    "}\n",
    "\n",
    "# clf = grid_search_clf(sgd_clf, param_grid, X_train, y_train, show=True)\n",
    "clf = grid_search_clf(sgd_clf, param_grid, X, y, show=True)\n",
    "# print('log_loss: {0}'.format(clf_score(clf, X_test, y_test)))\n",
    "\n",
    "\n",
    "\n",
    "print \"Done with log reg\"\n",
    "print \"\\n\\n==========================\\n\\n\""
   ]
  },
  {
   "cell_type": "code",
   "execution_count": 18,
   "metadata": {
    "collapsed": true
   },
   "outputs": [],
   "source": [
    "# log_loss: 0.6911 #!!! The best model so far\n",
    "    \n",
    "clf = SGDClassifier(alpha=0.0001, average=False, class_weight=None, epsilon=0.1,\n",
    "       eta0=0.0, fit_intercept=True, l1_ratio=0.001,\n",
    "       learning_rate='optimal', loss='log', n_iter=1000, n_jobs=-1,\n",
    "       penalty='l1', power_t=0.5, random_state=42, shuffle=True, verbose=0,\n",
    "       warm_start=False)\n",
    "\n",
    "X = normalize_df(X, X.columns)\n",
    "X_real = test_data.drop(['t_id'], axis=1)\n",
    "X_real = normalize_df(X_real, X_real.columns)\n",
    "id_real = pd.DataFrame(test_data['t_id'].copy())\n",
    "\n",
    "ans_sgd = get_ans(clf, X, y, X_real, id_real)\n",
    "ans_sgd.to_csv('test_ans_sgd.csv', index=False)"
   ]
  },
  {
   "cell_type": "code",
   "execution_count": 19,
   "metadata": {
    "collapsed": false
   },
   "outputs": [
    {
     "data": {
      "text/plain": [
       "(0.98665776501361158, 0.0)"
      ]
     },
     "execution_count": 19,
     "metadata": {},
     "output_type": "execute_result"
    }
   ],
   "source": [
    "import scipy\n",
    "\n",
    "scipy.stats.pearsonr(ans.probability, ans_sgd.probability)\n",
    "\n",
    "# (0.92608912387695219"
   ]
  },
  {
   "cell_type": "code",
   "execution_count": 29,
   "metadata": {
    "collapsed": false
   },
   "outputs": [
    {
     "data": {
      "text/plain": [
       "[<matplotlib.lines.Line2D at 0x14ff3d30>]"
      ]
     },
     "execution_count": 29,
     "metadata": {},
     "output_type": "execute_result"
    },
    {
     "data": {
      "image/png": "[encoded data removed]",
      "text/plain": [
       "<matplotlib.figure.Figure at 0x14ff35c0>"
      ]
     },
     "metadata": {},
     "output_type": "display_data"
    }
   ],
   "source": [
    "plt.plot(np.log(ans.probability[:100]), alpha=0.3)\n",
    "plt.plot(np.log(ans_sgd.probability[:100]), alpha=0.3)"
   ]
  },
  {
   "cell_type": "code",
   "execution_count": 78,
   "metadata": {
    "collapsed": false
   },
   "outputs": [
    {
     "data": {
      "image/png": "[encoded data removed]",
      "text/plain": [
       "<matplotlib.figure.Figure at 0x2da6a048>"
      ]
     },
     "metadata": {},
     "output_type": "display_data"
    }
   ],
   "source": [
    "from scipy import ndimage\n",
    "n = 25\n",
    "\n",
    "# a: 0.9 : 0.69141\n",
    "# 0.8: 0.69138\n",
    "# 0.7: 0.69134\n",
    "# 0.6: 0.69130\n",
    "# 0.5: 0.69127\n",
    "# 0.4: 0.69123\n",
    "# 0.3: 0.69120\n",
    "# 0.2: 0.69117\n",
    "# 0.1: 0.69114\n",
    "\n",
    "a = 0.1\n",
    "b = 1-a\n",
    "\n",
    "filtered = ndimage.filters.gaussian_filter(-ans_sgd.probability, 0.001, mode='mirror')\n",
    "plt.plot(np.log(ans.probability[:n]), alpha=0.7)\n",
    "plt.plot(np.log(ans_sgd.probability[:n]), alpha=0.7)\n",
    "plt.plot(np.log(a * ans.probability[:n] + b * ans_sgd.probability[:n]), alpha=0.7)\n",
    "# plt.plot(-filtered[:n], alpha=0.7)\n",
    "\n",
    "new_ans = ans.copy()\n",
    "new_ans.probability = a * ans.probability + b * ans_sgd.probability\n",
    "new_ans.to_csv('test_comb_ans.csv', index=False)"
   ]
  },
  {
   "cell_type": "code",
   "execution_count": 125,
   "metadata": {
    "collapsed": false
   },
   "outputs": [
    {
     "data": {
      "image/png": "[encoded data removed]",
      "text/plain": [
       "<matplotlib.figure.Figure at 0x32714940>"
      ]
     },
     "metadata": {},
     "output_type": "display_data"
    }
   ],
   "source": [
    "from scipy import signal\n",
    "\n",
    "smoothed_ans = ans.copy()\n",
    "smoothed_ans.probability = signal.savgol_filter(ans.probability, 5, 3)\n",
    "\n",
    "plt.plot(ans.probability[:n], alpha=0.7)\n",
    "# plt.plot(ans.probability[:n], alpha=0.7)\n",
    "plt.plot(smoothed_ans.probability[:n],alpha=0.7)\n",
    "\n",
    "\n",
    "smoothed_ans.to_csv('test_smooth_ans.csv', index=False)"
   ]
  },
  {
   "cell_type": "code",
   "execution_count": null,
   "metadata": {
    "collapsed": true
   },
   "outputs": [],
   "source": []
  },
  {
   "cell_type": "code",
   "execution_count": 14,
   "metadata": {
    "collapsed": true
   },
   "outputs": [],
   "source": [
    "## Sorted with swap"
   ]
  },
  {
   "cell_type": "code",
   "execution_count": 126,
   "metadata": {
    "collapsed": false
   },
   "outputs": [],
   "source": [
    "def get_sorted_data_with_swap(data, feature):\n",
    "    sorted_data = data.sort(columns=feature).copy()\n",
    "    X = sorted_data.drop('target', axis=1) if 'target' in sorted_data.columns else sorted_data\n",
    "    y = []\n",
    "    rows = X.shape[0]\n",
    "    y = sorted_data['target'] if 'target' in data else []\n",
    "    for col in X.columns:\n",
    "        if col == 't_id':\n",
    "            continue\n",
    "        feature_swapped = [0. for i in range(rows)] # np.zeros() дает друго результат о_0... хотя отличий быть не должно\n",
    "        for i in range(rows):\n",
    "            feature_swapped[i] = X[col][(i - 1) % rows]\n",
    "        X['prev_' + col] = feature_swapped\n",
    "    return X, y\n",
    "\n",
    "def get_sorted_data_with_swap_2cols(data):\n",
    "    rows = data.shape[0]\n",
    "    \n",
    "    sorted_data = data.sort(columns='feature6').copy()\n",
    "    \n",
    "    for col in sorted_data.columns:\n",
    "        if col in ['t_id', 'target']:\n",
    "            continue\n",
    "        feature_swapped = [0. for i in range(rows)] # np.zeros() дает друго результат о_0... хотя отличий быть не должно\n",
    "        for i in range(rows):\n",
    "            feature_swapped[i] = sorted_data[col][(i - 1) % rows]\n",
    "        sorted_data['prev_6_' + col] = feature_swapped\n",
    "        \n",
    "    sorted_data = sorted_data.sort(columns='feature1').copy()\n",
    "    for col in sorted_data.columns:\n",
    "        if col in ['t_id', 'target'] or 'prev' in col:\n",
    "            continue\n",
    "        feature_swapped = [0. for i in range(rows)] # np.zeros() дает друго результат о_0... хотя отличий быть не должно\n",
    "        for i in range(rows):\n",
    "            feature_swapped[i] = sorted_data[col][(i - 1) % rows]\n",
    "        sorted_data['prev_1_' + col] = feature_swapped\n",
    "    \n",
    "    X = sorted_data.drop('target', axis=1) if 'target' in sorted_data.columns else sorted_data\n",
    "    y = sorted_data['target'] if 'target' in data else []\n",
    "    \n",
    "    return X, y"
   ]
  },
  {
   "cell_type": "code",
   "execution_count": 129,
   "metadata": {
    "collapsed": false
   },
   "outputs": [
    {
     "name": "stderr",
     "output_type": "stream",
     "text": [
      "D:\\soft\\dev\\anaconda\\lib\\site-packages\\IPython\\kernel\\__main__.py:2: FutureWarning: sort(columns=....) is deprecated, use sort_values(by=.....)\n",
      "  from IPython.kernel.zmq import kernelapp as app\n"
     ]
    }
   ],
   "source": [
    "X, y = get_sorted_data_with_swap(data, ['feature1']) #get_sorted_data_with_swap(data, ['feature6'])\n",
    "X = normalize_df(X, X.columns)\n",
    "\n",
    "X_train, X_test, y_train, y_test = train_test_split(\n",
    "    X, y, test_size=0.20, random_state=random_state)"
   ]
  },
  {
   "cell_type": "code",
   "execution_count": 24,
   "metadata": {
    "collapsed": false
   },
   "outputs": [
    {
     "name": "stderr",
     "output_type": "stream",
     "text": [
      "[Parallel(n_jobs=-1)]: Done  42 tasks      | elapsed:    8.0s\n",
      "[Parallel(n_jobs=-1)]: Done 192 tasks      | elapsed:   37.5s\n",
      "[Parallel(n_jobs=-1)]: Done 442 tasks      | elapsed:  1.5min\n",
      "[Parallel(n_jobs=-1)]: Done 792 tasks      | elapsed:  2.6min\n",
      "[Parallel(n_jobs=-1)]: Done 1242 tasks      | elapsed:  4.1min\n",
      "[Parallel(n_jobs=-1)]: Done 1350 out of 1350 | elapsed:  4.5min finished\n"
     ]
    },
    {
     "name": "stdout",
     "output_type": "stream",
     "text": [
      "Fitting 3 folds for each of 450 candidates, totalling 1350 fits\n",
      "best score: -0.691726966376\n",
      "best estimator:\n",
      "LogisticRegression(C=2.0409142857142859, class_weight=None, dual=False,\n",
      "          fit_intercept=True, intercept_scaling=1, max_iter=1000,\n",
      "          multi_class='ovr', n_jobs=-1, penalty='l1', random_state=42,\n",
      "          solver='liblinear', tol=0.1, verbose=0, warm_start=False)\n",
      "log_loss: 0.691997072823\n"
     ]
    }
   ],
   "source": [
    "clf_log_reg = LogisticRegression(random_state=random_state, n_jobs=-1, max_iter=1000)\n",
    "\n",
    "param_grid = {\n",
    "    'penalty' : ['l1'], # 'l1'\n",
    "    'C': np.linspace(0.0001, 100.0, 50),\n",
    "    'tol': [0.00001, 0.0001, 0.0005, 0.001, 0.01, 0.1, 1, 10, 100]\n",
    "}\n",
    "\n",
    "clf = grid_search_clf(clf_log_reg, param_grid, X_train, y_train, show=True)\n",
    "print('log_loss: {0}'.format(clf_score(clf, X_test, y_test)))"
   ]
  },
  {
   "cell_type": "code",
   "execution_count": null,
   "metadata": {
    "collapsed": false
   },
   "outputs": [],
   "source": [
    "sgd_clf = SGDClassifier(loss='log', random_state=random_state, n_jobs=-1,\n",
    "                       n_iter=100)\n",
    "\n",
    "param_grid = {\n",
    "    'loss' : ['log', 'modified_huber'],\n",
    "    'penalty': ['none', 'l1', 'l2', 'elasticnet'],\n",
    "#     'alpha': np.linspace(0.000001, 0.0001, 50),\n",
    "    'l1_ratio': [0.001, 0.1, 0.03, 0.07, 0.15, 0.3, 0.5, 0.7, 0.9, 1],\n",
    "}\n",
    "\n",
    "clf = grid_search_clf(sgd_clf, param_grid, X_train, y_train, show=True)\n",
    "print('log_loss: {0}'.format(clf_score(clf, X_test, y_test)))\n",
    "\n",
    "\n",
    "print \"Done with log reg\"\n",
    "print \"\\n\\n==========================\\n\\n\""
   ]
  },
  {
   "cell_type": "code",
   "execution_count": null,
   "metadata": {
    "collapsed": true
   },
   "outputs": [],
   "source": [
    "# feature 1: 0.691270907607 - the best\n",
    "# feature 6: 0.691390394556 - good\n",
    "# feature 1 with 2 prev: 0.691667414946  - bad\n",
    "# feature 6 with2 prev: 0.691516171687 -bad\n",
    "# 19 and 6: log_loss: 0.691607982969 - bad\n",
    "# feature 19: 0.691901755334 - very bad\n",
    "# 6 and 19: 0.692073637757 - very very bad\n",
    "\n",
    "# 0.691887221816\n",
    "\n",
    "# Попробовать добавить предыдущую 6 и предыдущую 1 фичу совместно\n",
    "# результат: 0.691730353044 - very bad"
   ]
  }
 ],
 "metadata": {
  "kernelspec": {
   "display_name": "Python 2",
   "language": "python",
   "name": "python2"
  },
  "language_info": {
   "codemirror_mode": {
    "name": "ipython",
    "version": 2
   },
   "file_extension": ".py",
   "mimetype": "text/x-python",
   "name": "python",
   "nbconvert_exporter": "python",
   "pygments_lexer": "ipython2",
   "version": "2.7.11"
  }
 },
 "nbformat": 4,
 "nbformat_minor": 0
}
