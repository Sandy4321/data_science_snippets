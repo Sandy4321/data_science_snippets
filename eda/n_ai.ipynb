{
 "cells": [
  {
   "cell_type": "markdown",
   "metadata": {},
   "source": [
    "# n_ai problem eda"
   ]
  },
  {
   "cell_type": "code",
   "execution_count": 1,
   "metadata": {
    "collapsed": false
   },
   "outputs": [
    {
     "name": "stderr",
     "output_type": "stream",
     "text": [
      "D:\\soft\\dev\\anaconda\\lib\\site-packages\\pandas\\computation\\__init__.py:19: UserWarning: The installed version of numexpr 2.4.4 is not supported in pandas and will be not be used\n",
      "\n",
      "  UserWarning)\n"
     ]
    }
   ],
   "source": [
    "import pandas as pd\n",
    "import numpy as np\n",
    "import matplotlib.pyplot as plt\n",
    "from sklearn.metrics import log_loss\n",
    "from sklearn.cross_validation import train_test_split\n",
    "%matplotlib inline\n",
    "plt.style.use('ggplot')"
   ]
  },
  {
   "cell_type": "code",
   "execution_count": 3,
   "metadata": {
    "collapsed": false
   },
   "outputs": [
    {
     "data": {
      "text/html": [
       "<div>\n",
       "<table border=\"1\" class=\"dataframe\">\n",
       "  <thead>\n",
       "    <tr style=\"text-align: right;\">\n",
       "      <th></th>\n",
       "      <th>feature1</th>\n",
       "      <th>feature2</th>\n",
       "      <th>feature3</th>\n",
       "      <th>feature4</th>\n",
       "      <th>feature5</th>\n",
       "      <th>feature6</th>\n",
       "      <th>feature7</th>\n",
       "      <th>feature8</th>\n",
       "      <th>feature9</th>\n",
       "      <th>feature10</th>\n",
       "      <th>...</th>\n",
       "      <th>feature13</th>\n",
       "      <th>feature14</th>\n",
       "      <th>feature15</th>\n",
       "      <th>feature16</th>\n",
       "      <th>feature17</th>\n",
       "      <th>feature18</th>\n",
       "      <th>feature19</th>\n",
       "      <th>feature20</th>\n",
       "      <th>feature21</th>\n",
       "      <th>target</th>\n",
       "    </tr>\n",
       "  </thead>\n",
       "  <tbody>\n",
       "    <tr>\n",
       "      <th>0</th>\n",
       "      <td>0.263669</td>\n",
       "      <td>0.711012</td>\n",
       "      <td>0.730641</td>\n",
       "      <td>0.259069</td>\n",
       "      <td>0.331150</td>\n",
       "      <td>0.300947</td>\n",
       "      <td>0.468118</td>\n",
       "      <td>0.426362</td>\n",
       "      <td>0.545662</td>\n",
       "      <td>0.472496</td>\n",
       "      <td>...</td>\n",
       "      <td>0.869772</td>\n",
       "      <td>0.219606</td>\n",
       "      <td>0.690553</td>\n",
       "      <td>0.697929</td>\n",
       "      <td>0.332535</td>\n",
       "      <td>0.500681</td>\n",
       "      <td>0.418926</td>\n",
       "      <td>0.272475</td>\n",
       "      <td>0.822392</td>\n",
       "      <td>1</td>\n",
       "    </tr>\n",
       "    <tr>\n",
       "      <th>1</th>\n",
       "      <td>0.828056</td>\n",
       "      <td>0.433518</td>\n",
       "      <td>0.435617</td>\n",
       "      <td>0.209394</td>\n",
       "      <td>0.508133</td>\n",
       "      <td>0.296114</td>\n",
       "      <td>0.082211</td>\n",
       "      <td>0.876144</td>\n",
       "      <td>0.201528</td>\n",
       "      <td>0.630515</td>\n",
       "      <td>...</td>\n",
       "      <td>0.570470</td>\n",
       "      <td>0.235018</td>\n",
       "      <td>0.588986</td>\n",
       "      <td>0.767599</td>\n",
       "      <td>0.585097</td>\n",
       "      <td>0.458801</td>\n",
       "      <td>0.960031</td>\n",
       "      <td>0.732236</td>\n",
       "      <td>0.543159</td>\n",
       "      <td>0</td>\n",
       "    </tr>\n",
       "  </tbody>\n",
       "</table>\n",
       "<p>2 rows × 22 columns</p>\n",
       "</div>"
      ],
      "text/plain": [
       "   feature1  feature2  feature3  feature4  feature5  feature6  feature7  \\\n",
       "0  0.263669  0.711012  0.730641  0.259069  0.331150  0.300947  0.468118   \n",
       "1  0.828056  0.433518  0.435617  0.209394  0.508133  0.296114  0.082211   \n",
       "\n",
       "   feature8  feature9  feature10   ...    feature13  feature14  feature15  \\\n",
       "0  0.426362  0.545662   0.472496   ...     0.869772   0.219606   0.690553   \n",
       "1  0.876144  0.201528   0.630515   ...     0.570470   0.235018   0.588986   \n",
       "\n",
       "   feature16  feature17  feature18  feature19  feature20  feature21  target  \n",
       "0   0.697929   0.332535   0.500681   0.418926   0.272475   0.822392       1  \n",
       "1   0.767599   0.585097   0.458801   0.960031   0.732236   0.543159       0  \n",
       "\n",
       "[2 rows x 22 columns]"
      ]
     },
     "execution_count": 3,
     "metadata": {},
     "output_type": "execute_result"
    }
   ],
   "source": [
    "random_state = 42\n",
    "data = pd.read_csv('./../data/nai_train.csv')\n",
    "data.head(2)"
   ]
  },
  {
   "cell_type": "code",
   "execution_count": 4,
   "metadata": {
    "collapsed": false
   },
   "outputs": [],
   "source": [
    "X = data.drop(['target'], axis=1)\n",
    "y = data['target']\n",
    "\n",
    "X_train, X_test, y_train, y_test = train_test_split(\n",
    "    X, y, test_size=0.33, random_state=random_state)"
   ]
  },
  {
   "cell_type": "code",
   "execution_count": 5,
   "metadata": {
    "collapsed": false
   },
   "outputs": [],
   "source": [
    "from sklearn.grid_search import GridSearchCV\n",
    "\n",
    "def grid_search_clf(clf_to_train, param_grid, X_train, y_train):\n",
    "    clf = GridSearchCV(estimator=clf_to_train, param_grid=param_grid,\n",
    "                   n_jobs=-1, scoring='log_loss', verbose=True)\n",
    "    clf.fit(X_train, y_train)\n",
    "    print('best score: {0}'.format(clf.best_score_))\n",
    "    print('best estimator:')\n",
    "    print(clf.best_estimator_)\n",
    "    return clf\n",
    "\n",
    "def clf_score(clf, X_test, y_test):\n",
    "    clf_probs = clf.predict_proba(X_test)\n",
    "    return log_loss(y_test, clf_probs)"
   ]
  },
  {
   "cell_type": "code",
   "execution_count": 6,
   "metadata": {
    "collapsed": false
   },
   "outputs": [
    {
     "name": "stderr",
     "output_type": "stream",
     "text": [
      "[Parallel(n_jobs=-1)]: Done  42 tasks      | elapsed:  4.1min\n",
      "[Parallel(n_jobs=-1)]: Done 192 tasks      | elapsed: 17.0min\n",
      "[Parallel(n_jobs=-1)]: Done 297 out of 297 | elapsed: 25.7min finished\n"
     ]
    },
    {
     "name": "stdout",
     "output_type": "stream",
     "text": [
      "Fitting 3 folds for each of 99 candidates, totalling 297 fits\n",
      "best score: -0.694912146854\n",
      "best estimator:\n",
      "RandomForestClassifier(bootstrap=True, class_weight=None, criterion='gini',\n",
      "            max_depth=None, max_features='auto', max_leaf_nodes=None,\n",
      "            min_samples_leaf=6, min_samples_split=1,\n",
      "            min_weight_fraction_leaf=0.0, n_estimators=181, n_jobs=1,\n",
      "            oob_score=False, random_state=42, verbose=0, warm_start=False)\n",
      "log_loss: 0.695207917162\n"
     ]
    }
   ],
   "source": [
    "from sklearn.ensemble import RandomForestClassifier\n",
    "clf_rf = RandomForestClassifier(random_state=random_state)\n",
    "\n",
    "param_grid = {\n",
    "    'n_estimators': [i for i in range(175, 186)],\n",
    "#     'criterion': ['gini', 'entropy'],\n",
    "#     'max_features': ['sqrt', 'log2']\n",
    "#     'max_depth': [i for i in range(2, 16)]#,\n",
    "    'min_samples_split': [1, 3, 6],\n",
    "    'min_samples_leaf': [1, 3, 6]\n",
    "    \n",
    "}\n",
    "\n",
    "clf = grid_search_clf(clf_rf, param_grid, X_train, y_train)\n",
    "print('log_loss: {0}'.format(clf_score(clf, X_test, y_test)))"
   ]
  },
  {
   "cell_type": "code",
   "execution_count": 40,
   "metadata": {
    "collapsed": false
   },
   "outputs": [],
   "source": [
    "# log_loss: 0.69872587194715363\n",
    "# LOGLOSS 0.69855 on real data\n",
    "# RandomForestClassifier(bootstrap=True, class_weight=None, criterion='gini',\n",
    "#            max_depth=None, max_features='sqrt', max_leaf_nodes=None,\n",
    "#            min_samples_leaf=1, min_samples_split=2,\n",
    "#            min_weight_fraction_leaf=0.0, n_estimators=180, n_jobs=1,\n",
    "#            oob_score=False, random_state=42, verbose=0, warm_start=False)\n",
    "\n",
    "# log_loss: 0.695207917162\n",
    "# LOGLOSS 0.69826 on real data\n",
    "# RandomForestClassifier(bootstrap=True, class_weight=None, criterion='gini',\n",
    "#             max_depth=None, max_features='auto', max_leaf_nodes=None,\n",
    "#             min_samples_leaf=6, min_samples_split=1,\n",
    "#             min_weight_fraction_leaf=0.0, n_estimators=181, n_jobs=1,\n",
    "#             oob_score=False, random_state=42, verbose=0, warm_start=False)"
   ]
  },
  {
   "cell_type": "code",
   "execution_count": 11,
   "metadata": {
    "collapsed": true
   },
   "outputs": [],
   "source": [
    "def get_ans(clf, X, y, test_data):\n",
    "    X_real_test = test_data.drop(['t_id'], axis=1)\n",
    "    clf.fit(X, y)\n",
    "    real_pred = clf.predict_proba(X_real_test)\n",
    "    pred = [it[1] for it in real_pred]\n",
    "    ans = pd.DataFrame(test_data['t_id'])\n",
    "    ans['probability'] = pred\n",
    "    return ans"
   ]
  },
  {
   "cell_type": "code",
   "execution_count": 8,
   "metadata": {
    "collapsed": false
   },
   "outputs": [
    {
     "data": {
      "text/html": [
       "<div>\n",
       "<table border=\"1\" class=\"dataframe\">\n",
       "  <thead>\n",
       "    <tr style=\"text-align: right;\">\n",
       "      <th></th>\n",
       "      <th>t_id</th>\n",
       "      <th>feature1</th>\n",
       "      <th>feature2</th>\n",
       "      <th>feature3</th>\n",
       "      <th>feature4</th>\n",
       "      <th>feature5</th>\n",
       "      <th>feature6</th>\n",
       "      <th>feature7</th>\n",
       "      <th>feature8</th>\n",
       "      <th>feature9</th>\n",
       "      <th>...</th>\n",
       "      <th>feature12</th>\n",
       "      <th>feature13</th>\n",
       "      <th>feature14</th>\n",
       "      <th>feature15</th>\n",
       "      <th>feature16</th>\n",
       "      <th>feature17</th>\n",
       "      <th>feature18</th>\n",
       "      <th>feature19</th>\n",
       "      <th>feature20</th>\n",
       "      <th>feature21</th>\n",
       "    </tr>\n",
       "  </thead>\n",
       "  <tbody>\n",
       "    <tr>\n",
       "      <th>0</th>\n",
       "      <td>8309</td>\n",
       "      <td>0.853061</td>\n",
       "      <td>0.991828</td>\n",
       "      <td>0.350143</td>\n",
       "      <td>0.654192</td>\n",
       "      <td>0.909093</td>\n",
       "      <td>0.862609</td>\n",
       "      <td>0.463147</td>\n",
       "      <td>0.911227</td>\n",
       "      <td>0.406167</td>\n",
       "      <td>...</td>\n",
       "      <td>0.925065</td>\n",
       "      <td>0.913353</td>\n",
       "      <td>0.653512</td>\n",
       "      <td>0.962262</td>\n",
       "      <td>0.951630</td>\n",
       "      <td>0.886714</td>\n",
       "      <td>0.352522</td>\n",
       "      <td>0.108802</td>\n",
       "      <td>0.945558</td>\n",
       "      <td>0.007984</td>\n",
       "    </tr>\n",
       "    <tr>\n",
       "      <th>1</th>\n",
       "      <td>9017</td>\n",
       "      <td>0.966091</td>\n",
       "      <td>0.725498</td>\n",
       "      <td>0.560994</td>\n",
       "      <td>0.951211</td>\n",
       "      <td>0.135138</td>\n",
       "      <td>0.932749</td>\n",
       "      <td>0.711090</td>\n",
       "      <td>0.762113</td>\n",
       "      <td>0.021480</td>\n",
       "      <td>...</td>\n",
       "      <td>0.784351</td>\n",
       "      <td>0.456816</td>\n",
       "      <td>0.823934</td>\n",
       "      <td>0.225814</td>\n",
       "      <td>0.391988</td>\n",
       "      <td>0.058691</td>\n",
       "      <td>0.431277</td>\n",
       "      <td>0.403834</td>\n",
       "      <td>0.130560</td>\n",
       "      <td>0.922161</td>\n",
       "    </tr>\n",
       "  </tbody>\n",
       "</table>\n",
       "<p>2 rows × 22 columns</p>\n",
       "</div>"
      ],
      "text/plain": [
       "   t_id  feature1  feature2  feature3  feature4  feature5  feature6  feature7  \\\n",
       "0  8309  0.853061  0.991828  0.350143  0.654192  0.909093  0.862609  0.463147   \n",
       "1  9017  0.966091  0.725498  0.560994  0.951211  0.135138  0.932749  0.711090   \n",
       "\n",
       "   feature8  feature9    ...      feature12  feature13  feature14  feature15  \\\n",
       "0  0.911227  0.406167    ...       0.925065   0.913353   0.653512   0.962262   \n",
       "1  0.762113  0.021480    ...       0.784351   0.456816   0.823934   0.225814   \n",
       "\n",
       "   feature16  feature17  feature18  feature19  feature20  feature21  \n",
       "0   0.951630   0.886714   0.352522   0.108802   0.945558   0.007984  \n",
       "1   0.391988   0.058691   0.431277   0.403834   0.130560   0.922161  \n",
       "\n",
       "[2 rows x 22 columns]"
      ]
     },
     "execution_count": 8,
     "metadata": {},
     "output_type": "execute_result"
    }
   ],
   "source": [
    "test_data = pd.read_csv('./../data/nai_test.csv')\n",
    "test_data.head(2)"
   ]
  },
  {
   "cell_type": "code",
   "execution_count": 12,
   "metadata": {
    "collapsed": false,
    "scrolled": true
   },
   "outputs": [],
   "source": [
    "clf = RandomForestClassifier(bootstrap=True, class_weight=None, criterion='gini',\n",
    "            max_depth=None, max_features='auto', max_leaf_nodes=None,\n",
    "            min_samples_leaf=6, min_samples_split=1,\n",
    "            min_weight_fraction_leaf=0.0, n_estimators=181, n_jobs=1,\n",
    "            oob_score=False, random_state=42, verbose=0, warm_start=False)\n",
    "\n",
    "ans = get_ans(clf, X, y, test_data)"
   ]
  },
  {
   "cell_type": "code",
   "execution_count": 14,
   "metadata": {
    "collapsed": false
   },
   "outputs": [],
   "source": [
    "ans.to_csv('test_ans.csv', index=False)"
   ]
  },
  {
   "cell_type": "code",
   "execution_count": null,
   "metadata": {
    "collapsed": true
   },
   "outputs": [],
   "source": [
    "from sklearn.ensemble import RandomForestClassifier\n",
    "clf_rf = RandomForestClassifier(random_state=random_state)\n",
    "\n",
    "param_grid = {\n",
    "    'n_estimators': [i for i in range(175, 186)],\n",
    "#     'criterion': ['gini', 'entropy'],\n",
    "#     'max_features': ['sqrt', 'log2']\n",
    "#     'max_depth': [i for i in range(2, 16)]#,\n",
    "    'min_samples_split': [1, 3, 6],\n",
    "    'min_samples_leaf': [1, 3, 6]\n",
    "    \n",
    "}\n",
    "\n",
    "clf = grid_search_clf(clf_rf, param_grid, X_train, y_train)\n",
    "print('log_loss: {0}'.format(clf_score(clf, X_test, y_test)))"
   ]
  }
 ],
 "metadata": {
  "kernelspec": {
   "display_name": "Python 2",
   "language": "python",
   "name": "python2"
  },
  "language_info": {
   "codemirror_mode": {
    "name": "ipython",
    "version": 2
   },
   "file_extension": ".py",
   "mimetype": "text/x-python",
   "name": "python",
   "nbconvert_exporter": "python",
   "pygments_lexer": "ipython2",
   "version": "2.7.11"
  }
 },
 "nbformat": 4,
 "nbformat_minor": 0
}
