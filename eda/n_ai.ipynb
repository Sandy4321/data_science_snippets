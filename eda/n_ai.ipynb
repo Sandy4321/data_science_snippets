{
 "cells": [
  {
   "cell_type": "markdown",
   "metadata": {},
   "source": [
    "# n_ai problem eda"
   ]
  },
  {
   "cell_type": "markdown",
   "metadata": {},
   "source": [
    "### Ideas:\n",
    "\n",
    "1. Scale data\n",
    "2. Try nonlinear features\n",
    "3. Try to use clusterization\n",
    "4. Try t "
   ]
  },
  {
   "cell_type": "markdown",
   "metadata": {},
   "source": [
    "### Journal\n",
    "\n",
    "10.06.2016\n",
    "Пробовал сделать кластеризацию с помощью K-means. На Кроссвалидаации показатели немного улучшились (на десятитысячные), на numerai - ухудшились.\n",
    "\n",
    "14.06.2016\n",
    "Первый значимый результат, использование совместно двух датасетов (с прошлого и текущего этапов) дало прирост на реальных данных. Нужно попробовать обучить модели специально для совмещенных датасетов."
   ]
  },
  {
   "cell_type": "code",
   "execution_count": 18,
   "metadata": {
    "collapsed": false
   },
   "outputs": [],
   "source": [
    "import pandas as pd\n",
    "import numpy as np\n",
    "import matplotlib.pyplot as plt\n",
    "from sklearn.metrics import log_loss\n",
    "from sklearn.cross_validation import train_test_split\n",
    "from sklearn.preprocessing import normalize\n",
    "\n",
    "from sklearn.ensemble import RandomForestClassifier\n",
    "from sklearn.linear_model import LogisticRegression\n",
    "\n",
    "from sklearn.metrics import accuracy_score\n",
    "%matplotlib inline\n",
    "plt.style.use('ggplot')"
   ]
  },
  {
   "cell_type": "code",
   "execution_count": 2,
   "metadata": {
    "collapsed": false
   },
   "outputs": [
    {
     "data": {
      "text/html": [
       "<div>\n",
       "<table border=\"1\" class=\"dataframe\">\n",
       "  <thead>\n",
       "    <tr style=\"text-align: right;\">\n",
       "      <th></th>\n",
       "      <th>feature1</th>\n",
       "      <th>feature2</th>\n",
       "      <th>feature3</th>\n",
       "      <th>feature4</th>\n",
       "      <th>feature5</th>\n",
       "      <th>feature6</th>\n",
       "      <th>feature7</th>\n",
       "      <th>feature8</th>\n",
       "      <th>feature9</th>\n",
       "      <th>feature10</th>\n",
       "      <th>...</th>\n",
       "      <th>feature13</th>\n",
       "      <th>feature14</th>\n",
       "      <th>feature15</th>\n",
       "      <th>feature16</th>\n",
       "      <th>feature17</th>\n",
       "      <th>feature18</th>\n",
       "      <th>feature19</th>\n",
       "      <th>feature20</th>\n",
       "      <th>feature21</th>\n",
       "      <th>target</th>\n",
       "    </tr>\n",
       "  </thead>\n",
       "  <tbody>\n",
       "    <tr>\n",
       "      <th>0</th>\n",
       "      <td>0.943745</td>\n",
       "      <td>0.40144</td>\n",
       "      <td>0.052459</td>\n",
       "      <td>0.251756</td>\n",
       "      <td>0.599198</td>\n",
       "      <td>0.433079</td>\n",
       "      <td>0.154292</td>\n",
       "      <td>0.921624</td>\n",
       "      <td>0.089638</td>\n",
       "      <td>0.117733</td>\n",
       "      <td>...</td>\n",
       "      <td>0.823646</td>\n",
       "      <td>0.196164</td>\n",
       "      <td>0.712755</td>\n",
       "      <td>0.86763</td>\n",
       "      <td>0.409075</td>\n",
       "      <td>0.307076</td>\n",
       "      <td>0.949682</td>\n",
       "      <td>0.607616</td>\n",
       "      <td>0.417547</td>\n",
       "      <td>1</td>\n",
       "    </tr>\n",
       "    <tr>\n",
       "      <th>1</th>\n",
       "      <td>0.929175</td>\n",
       "      <td>0.86327</td>\n",
       "      <td>0.905306</td>\n",
       "      <td>0.698717</td>\n",
       "      <td>0.416503</td>\n",
       "      <td>0.770084</td>\n",
       "      <td>0.626188</td>\n",
       "      <td>0.738225</td>\n",
       "      <td>0.568635</td>\n",
       "      <td>0.675989</td>\n",
       "      <td>...</td>\n",
       "      <td>0.810103</td>\n",
       "      <td>0.784314</td>\n",
       "      <td>0.614979</td>\n",
       "      <td>0.59866</td>\n",
       "      <td>0.314625</td>\n",
       "      <td>0.977315</td>\n",
       "      <td>0.711697</td>\n",
       "      <td>0.304693</td>\n",
       "      <td>0.768250</td>\n",
       "      <td>0</td>\n",
       "    </tr>\n",
       "  </tbody>\n",
       "</table>\n",
       "<p>2 rows × 22 columns</p>\n",
       "</div>"
      ],
      "text/plain": [
       "   feature1  feature2  feature3  feature4  feature5  feature6  feature7  \\\n",
       "0  0.943745   0.40144  0.052459  0.251756  0.599198  0.433079  0.154292   \n",
       "1  0.929175   0.86327  0.905306  0.698717  0.416503  0.770084  0.626188   \n",
       "\n",
       "   feature8  feature9  feature10   ...    feature13  feature14  feature15  \\\n",
       "0  0.921624  0.089638   0.117733   ...     0.823646   0.196164   0.712755   \n",
       "1  0.738225  0.568635   0.675989   ...     0.810103   0.784314   0.614979   \n",
       "\n",
       "   feature16  feature17  feature18  feature19  feature20  feature21  target  \n",
       "0    0.86763   0.409075   0.307076   0.949682   0.607616   0.417547       1  \n",
       "1    0.59866   0.314625   0.977315   0.711697   0.304693   0.768250       0  \n",
       "\n",
       "[2 rows x 22 columns]"
      ]
     },
     "execution_count": 2,
     "metadata": {},
     "output_type": "execute_result"
    }
   ],
   "source": [
    "random_state = 42\n",
    "data = pd.read_csv('./../data/nai_train_2.csv')\n",
    "data.head(2)"
   ]
  },
  {
   "cell_type": "code",
   "execution_count": 3,
   "metadata": {
    "collapsed": false
   },
   "outputs": [
    {
     "data": {
      "text/html": [
       "<div>\n",
       "<table border=\"1\" class=\"dataframe\">\n",
       "  <thead>\n",
       "    <tr style=\"text-align: right;\">\n",
       "      <th></th>\n",
       "      <th>t_id</th>\n",
       "      <th>feature1</th>\n",
       "      <th>feature2</th>\n",
       "      <th>feature3</th>\n",
       "      <th>feature4</th>\n",
       "      <th>feature5</th>\n",
       "      <th>feature6</th>\n",
       "      <th>feature7</th>\n",
       "      <th>feature8</th>\n",
       "      <th>feature9</th>\n",
       "      <th>...</th>\n",
       "      <th>feature12</th>\n",
       "      <th>feature13</th>\n",
       "      <th>feature14</th>\n",
       "      <th>feature15</th>\n",
       "      <th>feature16</th>\n",
       "      <th>feature17</th>\n",
       "      <th>feature18</th>\n",
       "      <th>feature19</th>\n",
       "      <th>feature20</th>\n",
       "      <th>feature21</th>\n",
       "    </tr>\n",
       "  </thead>\n",
       "  <tbody>\n",
       "    <tr>\n",
       "      <th>0</th>\n",
       "      <td>19778</td>\n",
       "      <td>0.607656</td>\n",
       "      <td>0.307651</td>\n",
       "      <td>0.058045</td>\n",
       "      <td>0.234352</td>\n",
       "      <td>0.890180</td>\n",
       "      <td>0.517335</td>\n",
       "      <td>0.542164</td>\n",
       "      <td>0.284514</td>\n",
       "      <td>0.264094</td>\n",
       "      <td>...</td>\n",
       "      <td>0.569874</td>\n",
       "      <td>0.596151</td>\n",
       "      <td>0.413212</td>\n",
       "      <td>0.455846</td>\n",
       "      <td>0.415088</td>\n",
       "      <td>0.709330</td>\n",
       "      <td>0.246704</td>\n",
       "      <td>0.191077</td>\n",
       "      <td>0.671681</td>\n",
       "      <td>0.414686</td>\n",
       "    </tr>\n",
       "    <tr>\n",
       "      <th>1</th>\n",
       "      <td>21465</td>\n",
       "      <td>0.019469</td>\n",
       "      <td>0.862912</td>\n",
       "      <td>0.711874</td>\n",
       "      <td>0.310788</td>\n",
       "      <td>0.785673</td>\n",
       "      <td>0.314365</td>\n",
       "      <td>0.946540</td>\n",
       "      <td>0.025331</td>\n",
       "      <td>0.874238</td>\n",
       "      <td>...</td>\n",
       "      <td>0.993083</td>\n",
       "      <td>0.959947</td>\n",
       "      <td>0.262189</td>\n",
       "      <td>0.989967</td>\n",
       "      <td>0.973802</td>\n",
       "      <td>0.794051</td>\n",
       "      <td>0.704770</td>\n",
       "      <td>0.083737</td>\n",
       "      <td>0.916388</td>\n",
       "      <td>0.035524</td>\n",
       "    </tr>\n",
       "  </tbody>\n",
       "</table>\n",
       "<p>2 rows × 22 columns</p>\n",
       "</div>"
      ],
      "text/plain": [
       "    t_id  feature1  feature2  feature3  feature4  feature5  feature6  \\\n",
       "0  19778  0.607656  0.307651  0.058045  0.234352  0.890180  0.517335   \n",
       "1  21465  0.019469  0.862912  0.711874  0.310788  0.785673  0.314365   \n",
       "\n",
       "   feature7  feature8  feature9    ...      feature12  feature13  feature14  \\\n",
       "0  0.542164  0.284514  0.264094    ...       0.569874   0.596151   0.413212   \n",
       "1  0.946540  0.025331  0.874238    ...       0.993083   0.959947   0.262189   \n",
       "\n",
       "   feature15  feature16  feature17  feature18  feature19  feature20  feature21  \n",
       "0   0.455846   0.415088   0.709330   0.246704   0.191077   0.671681   0.414686  \n",
       "1   0.989967   0.973802   0.794051   0.704770   0.083737   0.916388   0.035524  \n",
       "\n",
       "[2 rows x 22 columns]"
      ]
     },
     "execution_count": 3,
     "metadata": {},
     "output_type": "execute_result"
    }
   ],
   "source": [
    "test_data = pd.read_csv('./../data/nai_test_2.csv')\n",
    "test_data.head(2)"
   ]
  },
  {
   "cell_type": "code",
   "execution_count": 27,
   "metadata": {
    "collapsed": true
   },
   "outputs": [],
   "source": [
    "# Fot using both datasets\n",
    "\n",
    "data_current = pd.read_csv('./../data/nai_train_2.csv')\n",
    "data_old = pd.read_csv('./../data/nai_train.csv')\n",
    "data = pd.concat([data_current, data_old])\n",
    "\n",
    "X = all_data.drop(['target'], axis=1)\n",
    "y = all_data['target']\n",
    "\n",
    "X_train, X_test, y_train, y_test = train_test_split(\n",
    "    X, y, test_size=0.2, random_state=random_state)"
   ]
  },
  {
   "cell_type": "code",
   "execution_count": 26,
   "metadata": {
    "collapsed": false
   },
   "outputs": [],
   "source": [
    "X = data.drop(['target'], axis=1)\n",
    "y = data['target']\n",
    "\n",
    "X_train, X_test, y_train, y_test = train_test_split(\n",
    "    X, y, test_size=0.33, random_state=random_state)"
   ]
  },
  {
   "cell_type": "code",
   "execution_count": 5,
   "metadata": {
    "collapsed": false
   },
   "outputs": [],
   "source": [
    "from sklearn.grid_search import GridSearchCV\n",
    "\n",
    "def grid_search_clf(clf_to_train, param_grid, X_train, y_train):\n",
    "    clf = GridSearchCV(estimator=clf_to_train, param_grid=param_grid,\n",
    "                   n_jobs=-1, scoring='log_loss', verbose=True)\n",
    "    clf.fit(X_train, y_train)\n",
    "    print('best score: {0}'.format(clf.best_score_))\n",
    "    print('best estimator:')\n",
    "    print(clf.best_estimator_)\n",
    "    return clf\n",
    "\n",
    "def clf_score(clf, X_test, y_test):\n",
    "    clf_probs = clf.predict_proba(X_test)\n",
    "    return log_loss(y_test, clf_probs)"
   ]
  },
  {
   "cell_type": "code",
   "execution_count": 6,
   "metadata": {
    "collapsed": true
   },
   "outputs": [],
   "source": [
    "def get_ans(clf, X, y, test_data, transform=False):\n",
    "    X_real_test = test_data.drop(['t_id'], axis=1)\n",
    "    if transform:\n",
    "        X_real_test = transform_data(X_real_test)\n",
    "    clf.fit(X, y)\n",
    "    real_pred = clf.predict_proba(X_real_test)\n",
    "    pred = [it[1] for it in real_pred]\n",
    "    ans = pd.DataFrame(test_data['t_id'])\n",
    "    ans['probability'] = pred\n",
    "    return ans"
   ]
  },
  {
   "cell_type": "markdown",
   "metadata": {},
   "source": [
    "## Plotting"
   ]
  },
  {
   "cell_type": "code",
   "execution_count": 29,
   "metadata": {
    "collapsed": false
   },
   "outputs": [
    {
     "name": "stdout",
     "output_type": "stream",
     "text": [
      "feature1\n"
     ]
    },
    {
     "data": {
      "image/png": "[encoded data removed]",
      "text/plain": [
       "<matplotlib.figure.Figure at 0x95414e0>"
      ]
     },
     "metadata": {},
     "output_type": "display_data"
    },
    {
     "name": "stdout",
     "output_type": "stream",
     "text": [
      "feature2\n"
     ]
    },
    {
     "data": {
      "image/png": "[encoded data removed]",
      "text/plain": [
       "<matplotlib.figure.Figure at 0x16220240>"
      ]
     },
     "metadata": {},
     "output_type": "display_data"
    },
    {
     "name": "stdout",
     "output_type": "stream",
     "text": [
      "feature3\n"
     ]
    },
    {
     "data": {
      "image/png": "[encoded data removed]",
      "text/plain": [
       "<matplotlib.figure.Figure at 0x13f9d630>"
      ]
     },
     "metadata": {},
     "output_type": "display_data"
    },
    {
     "name": "stdout",
     "output_type": "stream",
     "text": [
      "feature4\n"
     ]
    },
    {
     "data": {
      "image/png": "[encoded data removed]",
      "text/plain": [
       "<matplotlib.figure.Figure at 0x192462b0>"
      ]
     },
     "metadata": {},
     "output_type": "display_data"
    },
    {
     "name": "stdout",
     "output_type": "stream",
     "text": [
      "feature5\n"
     ]
    },
    {
     "data": {
      "image/png": "[encoded data removed]",
      "text/plain": [
       "<matplotlib.figure.Figure at 0x15ee0048>"
      ]
     },
     "metadata": {},
     "output_type": "display_data"
    },
    {
     "name": "stdout",
     "output_type": "stream",
     "text": [
      "feature6\n"
     ]
    },
    {
     "data": {
      "image/png": "[encoded data removed]",
      "text/plain": [
       "<matplotlib.figure.Figure at 0xe2b8400>"
      ]
     },
     "metadata": {},
     "output_type": "display_data"
    },
    {
     "name": "stdout",
     "output_type": "stream",
     "text": [
      "feature7\n"
     ]
    },
    {
     "data": {
      "image/png": "[encoded data removed]",
      "text/plain": [
       "<matplotlib.figure.Figure at 0x16181a58>"
      ]
     },
     "metadata": {},
     "output_type": "display_data"
    },
    {
     "name": "stdout",
     "output_type": "stream",
     "text": [
      "feature8\n"
     ]
    },
    {
     "data": {
      "image/png": "[encoded data removed]",
      "text/plain": [
       "<matplotlib.figure.Figure at 0x13fb0080>"
      ]
     },
     "metadata": {},
     "output_type": "display_data"
    },
    {
     "name": "stdout",
     "output_type": "stream",
     "text": [
      "feature9\n"
     ]
    },
    {
     "data": {
      "image/png": "[encoded data removed]",
      "text/plain": [
       "<matplotlib.figure.Figure at 0xe34b320>"
      ]
     },
     "metadata": {},
     "output_type": "display_data"
    },
    {
     "name": "stdout",
     "output_type": "stream",
     "text": [
      "feature10\n"
     ]
    },
    {
     "data": {
      "image/png": "[encoded data removed]",
      "text/plain": [
       "<matplotlib.figure.Figure at 0x19309048>"
      ]
     },
     "metadata": {},
     "output_type": "display_data"
    },
    {
     "name": "stdout",
     "output_type": "stream",
     "text": [
      "feature11\n"
     ]
    },
    {
     "data": {
      "image/png": "[encoded data removed]",
      "text/plain": [
       "<matplotlib.figure.Figure at 0x1626d978>"
      ]
     },
     "metadata": {},
     "output_type": "display_data"
    },
    {
     "name": "stdout",
     "output_type": "stream",
     "text": [
      "feature12\n"
     ]
    },
    {
     "data": {
      "image/png": "[encoded data removed]",
      "text/plain": [
       "<matplotlib.figure.Figure at 0x15de8be0>"
      ]
     },
     "metadata": {},
     "output_type": "display_data"
    },
    {
     "name": "stdout",
     "output_type": "stream",
     "text": [
      "feature13\n"
     ]
    },
    {
     "data": {
      "image/png": "[encoded data removed]",
      "text/plain": [
       "<matplotlib.figure.Figure at 0xdfb40f0>"
      ]
     },
     "metadata": {},
     "output_type": "display_data"
    },
    {
     "name": "stdout",
     "output_type": "stream",
     "text": [
      "feature14\n"
     ]
    },
    {
     "data": {
      "image/png": "[encoded data removed]",
      "text/plain": [
       "<matplotlib.figure.Figure at 0x1072ef98>"
      ]
     },
     "metadata": {},
     "output_type": "display_data"
    },
    {
     "name": "stdout",
     "output_type": "stream",
     "text": [
      "feature15\n"
     ]
    },
    {
     "data": {
      "image/png": "[encoded data removed]",
      "text/plain": [
       "<matplotlib.figure.Figure at 0x113da198>"
      ]
     },
     "metadata": {},
     "output_type": "display_data"
    },
    {
     "name": "stdout",
     "output_type": "stream",
     "text": [
      "feature16\n"
     ]
    },
    {
     "data": {
      "image/png": "[encoded data removed]",
      "text/plain": [
       "<matplotlib.figure.Figure at 0x1427e320>"
      ]
     },
     "metadata": {},
     "output_type": "display_data"
    },
    {
     "name": "stdout",
     "output_type": "stream",
     "text": [
      "feature17\n"
     ]
    },
    {
     "data": {
      "image/png": "[encoded data removed]",
      "text/plain": [
       "<matplotlib.figure.Figure at 0x160655c0>"
      ]
     },
     "metadata": {},
     "output_type": "display_data"
    },
    {
     "name": "stdout",
     "output_type": "stream",
     "text": [
      "feature18\n"
     ]
    },
    {
     "data": {
      "image/png": "[encoded data removed]",
      "text/plain": [
       "<matplotlib.figure.Figure at 0x140b1d68>"
      ]
     },
     "metadata": {},
     "output_type": "display_data"
    },
    {
     "name": "stdout",
     "output_type": "stream",
     "text": [
      "feature19\n"
     ]
    },
    {
     "data": {
      "image/png": "[encoded data removed]",
      "text/plain": [
       "<matplotlib.figure.Figure at 0xe325080>"
      ]
     },
     "metadata": {},
     "output_type": "display_data"
    },
    {
     "name": "stdout",
     "output_type": "stream",
     "text": [
      "feature20\n"
     ]
    },
    {
     "data": {
      "image/png": "[encoded data removed]",
      "text/plain": [
       "<matplotlib.figure.Figure at 0xdfd1320>"
      ]
     },
     "metadata": {},
     "output_type": "display_data"
    },
    {
     "name": "stdout",
     "output_type": "stream",
     "text": [
      "feature21\n"
     ]
    },
    {
     "data": {
      "image/png": "[encoded data removed]",
      "text/plain": [
       "<matplotlib.figure.Figure at 0x1939f048>"
      ]
     },
     "metadata": {},
     "output_type": "display_data"
    },
    {
     "name": "stdout",
     "output_type": "stream",
     "text": [
      "target\n"
     ]
    },
    {
     "data": {
      "image/png": "[encoded data removed]",
      "text/plain": [
       "<matplotlib.figure.Figure at 0xe024978>"
      ]
     },
     "metadata": {},
     "output_type": "display_data"
    }
   ],
   "source": [
    "def prepare_hist(feature):\n",
    "    bins = ((feature * 100 / 10)).astype(int)\n",
    "    bins.hist()\n",
    "    plt.show()\n",
    "#     print bins\n",
    "    \n",
    "for feature in data.columns:\n",
    "    print(feature)\n",
    "    prepare_hist(data[feature])"
   ]
  },
  {
   "cell_type": "code",
   "execution_count": 42,
   "metadata": {
    "collapsed": false
   },
   "outputs": [
    {
     "name": "stdout",
     "output_type": "stream",
     "text": [
      "feature1\n"
     ]
    },
    {
     "data": {
      "image/png": "[encoded data removed]",
      "text/plain": [
       "<matplotlib.figure.Figure at 0x15de70b8>"
      ]
     },
     "metadata": {},
     "output_type": "display_data"
    },
    {
     "name": "stdout",
     "output_type": "stream",
     "text": [
      "feature2\n"
     ]
    },
    {
     "data": {
      "image/png": "[encoded data removed]",
      "text/plain": [
       "<matplotlib.figure.Figure at 0xe2afa20>"
      ]
     },
     "metadata": {},
     "output_type": "display_data"
    },
    {
     "name": "stdout",
     "output_type": "stream",
     "text": [
      "feature3\n"
     ]
    },
    {
     "data": {
      "image/png": "[encoded data removed]",
      "text/plain": [
       "<matplotlib.figure.Figure at 0x1072cf98>"
      ]
     },
     "metadata": {},
     "output_type": "display_data"
    },
    {
     "name": "stdout",
     "output_type": "stream",
     "text": [
      "feature4\n"
     ]
    },
    {
     "data": {
      "image/png": "[encoded data removed]",
      "text/plain": [
       "<matplotlib.figure.Figure at 0x13e91320>"
      ]
     },
     "metadata": {},
     "output_type": "display_data"
    },
    {
     "name": "stdout",
     "output_type": "stream",
     "text": [
      "feature5\n"
     ]
    },
    {
     "data": {
      "image/png": "[encoded data removed]",
      "text/plain": [
       "<matplotlib.figure.Figure at 0x18ea1b00>"
      ]
     },
     "metadata": {},
     "output_type": "display_data"
    },
    {
     "name": "stdout",
     "output_type": "stream",
     "text": [
      "feature6\n"
     ]
    },
    {
     "data": {
      "image/png": "[encoded data removed]",
      "text/plain": [
       "<matplotlib.figure.Figure at 0x1909cd68>"
      ]
     },
     "metadata": {},
     "output_type": "display_data"
    },
    {
     "name": "stdout",
     "output_type": "stream",
     "text": [
      "feature7\n"
     ]
    },
    {
     "data": {
      "image/png": "[encoded data removed]",
      "text/plain": [
       "<matplotlib.figure.Figure at 0x1909c5f8>"
      ]
     },
     "metadata": {},
     "output_type": "display_data"
    },
    {
     "name": "stdout",
     "output_type": "stream",
     "text": [
      "feature8\n"
     ]
    },
    {
     "data": {
      "image/png": "[encoded data removed]",
      "text/plain": [
       "<matplotlib.figure.Figure at 0xdf268d0>"
      ]
     },
     "metadata": {},
     "output_type": "display_data"
    },
    {
     "name": "stdout",
     "output_type": "stream",
     "text": [
      "feature9\n"
     ]
    },
    {
     "data": {
      "image/png": "[encoded data removed]",
      "text/plain": [
       "<matplotlib.figure.Figure at 0x19325b00>"
      ]
     },
     "metadata": {},
     "output_type": "display_data"
    },
    {
     "name": "stdout",
     "output_type": "stream",
     "text": [
      "feature10\n"
     ]
    },
    {
     "data": {
      "image/png": "[encoded data removed]",
      "text/plain": [
       "<matplotlib.figure.Figure at 0xe2c18d0>"
      ]
     },
     "metadata": {},
     "output_type": "display_data"
    },
    {
     "name": "stdout",
     "output_type": "stream",
     "text": [
      "feature11\n"
     ]
    },
    {
     "data": {
      "image/png": "[encoded data removed]",
      "text/plain": [
       "<matplotlib.figure.Figure at 0xe303630>"
      ]
     },
     "metadata": {},
     "output_type": "display_data"
    },
    {
     "name": "stdout",
     "output_type": "stream",
     "text": [
      "feature12\n"
     ]
    },
    {
     "data": {
      "image/png": "[encoded data removed]",
      "text/plain": [
       "<matplotlib.figure.Figure at 0xe3d6d68>"
      ]
     },
     "metadata": {},
     "output_type": "display_data"
    },
    {
     "name": "stdout",
     "output_type": "stream",
     "text": [
      "feature13\n"
     ]
    },
    {
     "data": {
      "image/png": "[encoded data removed]",
      "text/plain": [
       "<matplotlib.figure.Figure at 0x1d496cc0>"
      ]
     },
     "metadata": {},
     "output_type": "display_data"
    },
    {
     "name": "stdout",
     "output_type": "stream",
     "text": [
      "feature14\n"
     ]
    },
    {
     "data": {
      "image/png": "[encoded data removed]",
      "text/plain": [
       "<matplotlib.figure.Figure at 0x18c96da0>"
      ]
     },
     "metadata": {},
     "output_type": "display_data"
    },
    {
     "name": "stdout",
     "output_type": "stream",
     "text": [
      "feature15\n"
     ]
    },
    {
     "data": {
      "image/png": "[encoded data removed]",
      "text/plain": [
       "<matplotlib.figure.Figure at 0x18c77d30>"
      ]
     },
     "metadata": {},
     "output_type": "display_data"
    },
    {
     "name": "stdout",
     "output_type": "stream",
     "text": [
      "feature16\n"
     ]
    },
    {
     "data": {
      "image/png": "[encoded data removed]",
      "text/plain": [
       "<matplotlib.figure.Figure at 0x13e44748>"
      ]
     },
     "metadata": {},
     "output_type": "display_data"
    },
    {
     "name": "stdout",
     "output_type": "stream",
     "text": [
      "feature17\n"
     ]
    },
    {
     "data": {
      "image/png": "[encoded data removed]",
      "text/plain": [
       "<matplotlib.figure.Figure at 0x18ef6b38>"
      ]
     },
     "metadata": {},
     "output_type": "display_data"
    },
    {
     "name": "stdout",
     "output_type": "stream",
     "text": [
      "feature18\n"
     ]
    },
    {
     "data": {
      "image/png": "[encoded data removed]",
      "text/plain": [
       "<matplotlib.figure.Figure at 0x18ef6240>"
      ]
     },
     "metadata": {},
     "output_type": "display_data"
    },
    {
     "name": "stdout",
     "output_type": "stream",
     "text": [
      "feature19\n"
     ]
    },
    {
     "data": {
      "image/png": "[encoded data removed]",
      "text/plain": [
       "<matplotlib.figure.Figure at 0x16a986d8>"
      ]
     },
     "metadata": {},
     "output_type": "display_data"
    },
    {
     "name": "stdout",
     "output_type": "stream",
     "text": [
      "feature20\n"
     ]
    },
    {
     "data": {
      "image/png": "[encoded data removed]",
      "text/plain": [
       "<matplotlib.figure.Figure at 0xe2e56a0>"
      ]
     },
     "metadata": {},
     "output_type": "display_data"
    },
    {
     "name": "stdout",
     "output_type": "stream",
     "text": [
      "feature21\n"
     ]
    },
    {
     "data": {
      "image/png": "[encoded data removed]",
      "text/plain": [
       "<matplotlib.figure.Figure at 0x10771860>"
      ]
     },
     "metadata": {},
     "output_type": "display_data"
    },
    {
     "name": "stdout",
     "output_type": "stream",
     "text": [
      "(-0.01848987936977098, 'feature15')\n",
      "(-0.01758547476158001, 'feature16')\n",
      "(-0.01681327071361438, 'feature17')\n",
      "(-0.01394298137955785, 'feature13')\n",
      "(-0.013804658825818994, 'feature20')\n",
      "(-0.012726298224279453, 'feature11')\n",
      "(-0.012631013543102587, 'feature5')\n",
      "(-0.012264002305601873, 'feature2')\n",
      "(-0.011625465340650343, 'feature21')\n",
      "(-0.0105518385439613, 'feature10')\n",
      "(-0.007414822275531918, 'feature18')\n",
      "(-0.00737177560109159, 'feature12')\n",
      "(-0.005292298445007615, 'feature8')\n",
      "(-0.004067018673320544, 'feature3')\n",
      "(-0.0035831971090640735, 'feature1')\n",
      "(-0.0027252150525598484, 'feature7')\n",
      "(-0.001690159266203639, 'feature19')\n",
      "(-0.001057353084949808, 'feature9')\n",
      "(0.008122562799113664, 'feature6')\n",
      "(0.009364393105576796, 'feature4')\n",
      "(0.014688679587229192, 'feature14')\n"
     ]
    }
   ],
   "source": [
    "def prepare_plot(x):\n",
    "    plt.boxplot(x)# plot(target, feature)\n",
    "    plt.show()\n",
    "\n",
    "data_neg = data[data['target']==0]\n",
    "data_pos = data[data['target']==1]\n",
    "means_diff = []\n",
    "for feature in data.columns:\n",
    "    if feature == 'target':\n",
    "        continue\n",
    "    print(feature)\n",
    "    means_diff.append((data_neg[feature].mean() - data_pos[feature].mean(), feature))\n",
    "    prepare_plot([data_neg[feature], data_pos[feature]])\n",
    "    \n",
    "for mean in sorted(means_diff):\n",
    "    print mean"
   ]
  },
  {
   "cell_type": "code",
   "execution_count": 50,
   "metadata": {
    "collapsed": false
   },
   "outputs": [
    {
     "data": {
      "text/plain": [
       "feature1     0.793415\n",
       "feature2     0.753525\n",
       "feature3     0.849208\n",
       "feature4     0.857202\n",
       "feature5     0.815433\n",
       "feature6     0.778462\n",
       "feature7     0.806859\n",
       "feature8     0.793415\n",
       "feature9     0.806859\n",
       "feature10    0.789887\n",
       "feature11    0.806889\n",
       "feature12    0.772281\n",
       "feature13    0.810960\n",
       "feature14    0.857202\n",
       "feature15    0.843541\n",
       "feature16    0.843541\n",
       "feature17    0.855935\n",
       "feature18    0.849208\n",
       "feature19    0.697613\n",
       "feature20    0.855935\n",
       "feature21    0.806889\n",
       "dtype: float64"
      ]
     },
     "execution_count": 50,
     "metadata": {},
     "output_type": "execute_result"
    }
   ],
   "source": [
    "corr_matrix = data.drop('target', axis=1).corr().replace(1.0, 0)\n",
    "corr_matrix.abs().max()\n",
    "\n",
    "# There are very correlated features\n",
    "# TODO: Try to use regression with l1 to remove some features."
   ]
  },
  {
   "cell_type": "code",
   "execution_count": 72,
   "metadata": {
    "collapsed": false
   },
   "outputs": [
    {
     "data": {
      "text/plain": [
       "feature1     0.006226\n",
       "feature2     0.021135\n",
       "feature3     0.006928\n",
       "feature4     0.016158\n",
       "feature5     0.021573\n",
       "feature6     0.014142\n",
       "feature7     0.004797\n",
       "feature8     0.009250\n",
       "feature9     0.001805\n",
       "feature10    0.018754\n",
       "feature11    0.021169\n",
       "feature12    0.012331\n",
       "feature13    0.023864\n",
       "feature14    0.025301\n",
       "feature15    0.032704\n",
       "feature16    0.030057\n",
       "feature17    0.029178\n",
       "feature18    0.012800\n",
       "feature19    0.002888\n",
       "feature20    0.024090\n",
       "feature21    0.019812\n",
       "dtype: float64"
      ]
     },
     "execution_count": 72,
     "metadata": {},
     "output_type": "execute_result"
    }
   ],
   "source": [
    "data.drop('target', axis=1).corrwith(data['target']).abs()"
   ]
  },
  {
   "cell_type": "markdown",
   "metadata": {},
   "source": [
    "## Nonlinear data"
   ]
  },
  {
   "cell_type": "code",
   "execution_count": 100,
   "metadata": {
    "collapsed": false
   },
   "outputs": [],
   "source": [
    "def transform_data(X):\n",
    "    nonlin_X = X.copy()\n",
    "    for col in nonlin_X.columns:\n",
    "        nonlin_X[col + '_sq'] = nonlin_X[col] ** 2\n",
    "        nonlin_X[col + '_cube'] = nonlin_X[col] ** 3\n",
    "#         nonlin_X[col + '_log'] = np.log(nonlin_X[col + '_sq'])\n",
    "#     nonlin_X = normalize(X)\n",
    "    return nonlin_X"
   ]
  },
  {
   "cell_type": "code",
   "execution_count": 60,
   "metadata": {
    "collapsed": false
   },
   "outputs": [
    {
     "ename": "NameError",
     "evalue": "name 'transform_data' is not defined",
     "output_type": "error",
     "traceback": [
      "\u001b[1;31m---------------------------------------------------------------------------\u001b[0m",
      "\u001b[1;31mNameError\u001b[0m                                 Traceback (most recent call last)",
      "\u001b[1;32m<ipython-input-60-aec6adf02d9c>\u001b[0m in \u001b[0;36m<module>\u001b[1;34m()\u001b[0m\n\u001b[1;32m----> 1\u001b[1;33m \u001b[0mnonlin_X\u001b[0m \u001b[1;33m=\u001b[0m \u001b[0mtransform_data\u001b[0m\u001b[1;33m(\u001b[0m\u001b[0mX\u001b[0m\u001b[1;33m)\u001b[0m\u001b[1;33m\u001b[0m\u001b[0m\n\u001b[0m\u001b[0;32m      2\u001b[0m \u001b[1;33m\u001b[0m\u001b[0m\n\u001b[0;32m      3\u001b[0m X_train, X_test, y_train, y_test = train_test_split(\n\u001b[0;32m      4\u001b[0m     nonlin_X, y, test_size=0.33, random_state=random_state)\n",
      "\u001b[1;31mNameError\u001b[0m: name 'transform_data' is not defined"
     ]
    }
   ],
   "source": [
    "nonlin_X = transform_data(X)\n",
    "\n",
    "X_train, X_test, y_train, y_test = train_test_split(\n",
    "    nonlin_X, y, test_size=0.33, random_state=random_state)"
   ]
  },
  {
   "cell_type": "markdown",
   "metadata": {},
   "source": [
    "### Adding cluster feature"
   ]
  },
  {
   "cell_type": "code",
   "execution_count": 19,
   "metadata": {
    "collapsed": true
   },
   "outputs": [],
   "source": [
    "from sklearn.cluster import KMeans\n",
    "from sklearn.cluster import DBSCAN\n",
    "\n",
    "def add_clust_feature(clst, data):\n",
    "    if 't_id' in data.columns:\n",
    "        clust_cols = pd.get_dummies(clst.predict(data.drop('t_id', axis=1)))\n",
    "    else:\n",
    "        clust_cols = pd.get_dummies(clst.predict(data))\n",
    "    clust_cols.index = data.index\n",
    "    res_data = pd.concat([data, clust_cols], axis=1)\n",
    "    return res_data"
   ]
  },
  {
   "cell_type": "code",
   "execution_count": 21,
   "metadata": {
    "collapsed": false
   },
   "outputs": [],
   "source": [
    "from sklearn.cluster import KMeans\n",
    "from sklearn.cluster import DBSCAN\n",
    "\n",
    "n_clusters = 8\n",
    "\n",
    "X = data.drop(['target'], axis=1)\n",
    "y = data['target']\n",
    "\n",
    "X_train, X_test, y_train, y_test = train_test_split(\n",
    "    X, y, test_size=0.33, random_state=random_state)\n",
    "\n",
    "clst = KMeans(n_clusters=n_clusters)\n",
    "clst.fit(X_train);\n",
    "\n",
    "X_train = add_clust_feature(clst, X_train)\n",
    "X_test = add_clust_feature(clst, X_test)"
   ]
  },
  {
   "cell_type": "code",
   "execution_count": 130,
   "metadata": {
    "collapsed": false
   },
   "outputs": [],
   "source": [
    "# log_regression with k-means:\n",
    "# 8 clusters: 0.691434677453\n",
    "# 3 clusters: 0.691446751304\n",
    "\n",
    "# 2 clusters: 0.691472370854\n",
    "# 5 clusters: 0.691487633242\n",
    "# 4 clusters: 0.691593318766\n",
    "# 5 clusters: 0.691520027025"
   ]
  },
  {
   "cell_type": "markdown",
   "metadata": {},
   "source": [
    "# Random forest"
   ]
  },
  {
   "cell_type": "code",
   "execution_count": null,
   "metadata": {
    "collapsed": false
   },
   "outputs": [],
   "source": [
    "clf_rf = RandomForestClassifier(random_state=random_state)\n",
    "\n",
    "param_grid = {\n",
    "    'n_estimators': [10, 30, 50, 100, 150, 200],\n",
    "#     'criterion': ['gini', 'entropy'],\n",
    "#     'max_features': ['sqrt', 'log2']\n",
    "#     'max_depth': [i for i in range(2, 16)]#,\n",
    "    'min_samples_split': [1, 3, 6],\n",
    "    'min_samples_leaf': [1, 3, 6]\n",
    "    \n",
    "}\n",
    "\n",
    "clf = grid_search_clf(clf_rf, param_grid, X_train, y_train)\n",
    "print('log_loss: {0}'.format(clf_score(clf, X_test, y_test)))"
   ]
  },
  {
   "cell_type": "code",
   "execution_count": 40,
   "metadata": {
    "collapsed": false
   },
   "outputs": [],
   "source": [
    "# RandomForestClassifier(bootstrap=True, class_weight=None, criterion='gini',\n",
    "#             max_depth=None, max_features='auto', max_leaf_nodes=None,\n",
    "#             min_samples_leaf=6, min_samples_split=1,\n",
    "#             min_weight_fraction_leaf=0.0, n_estimators=200, n_jobs=1,\n",
    "#             oob_score=False, random_state=42, verbose=0, warm_start=False)\n",
    "# log_loss: 0.694575344696"
   ]
  },
  {
   "cell_type": "code",
   "execution_count": 16,
   "metadata": {
    "collapsed": false,
    "scrolled": true
   },
   "outputs": [],
   "source": [
    "clf = RandomForestClassifier(bootstrap=True, class_weight=None, criterion='gini',\n",
    "            max_depth=None, max_features='auto', max_leaf_nodes=None,\n",
    "            min_samples_leaf=6, min_samples_split=1,\n",
    "            min_weight_fraction_leaf=0.0, n_estimators=181, n_jobs=1,\n",
    "            oob_score=False, random_state=42, verbose=0, warm_start=False)\n",
    "\n",
    "ans = get_ans(clf, X, y, test_data)\n",
    "ans.to_csv('test_ans.csv', index=False)"
   ]
  },
  {
   "cell_type": "markdown",
   "metadata": {},
   "source": [
    "# Log regression"
   ]
  },
  {
   "cell_type": "code",
   "execution_count": 29,
   "metadata": {
    "collapsed": false
   },
   "outputs": [
    {
     "name": "stderr",
     "output_type": "stream",
     "text": [
      "[Parallel(n_jobs=-1)]: Done  42 tasks      | elapsed:   50.8s\n",
      "[Parallel(n_jobs=-1)]: Done  90 out of  90 | elapsed:  1.9min finished\n"
     ]
    },
    {
     "name": "stdout",
     "output_type": "stream",
     "text": [
      "Fitting 3 folds for each of 30 candidates, totalling 90 fits\n",
      "best score: -0.691527804433\n",
      "best estimator:\n",
      "LogisticRegression(C=0.17249655172413794, class_weight=None, dual=False,\n",
      "          fit_intercept=True, intercept_scaling=1, max_iter=100,\n",
      "          multi_class='ovr', n_jobs=1, penalty='l1', random_state=42,\n",
      "          solver='liblinear', tol=0.0001, verbose=0, warm_start=False)\n",
      "log_loss: 0.691526043542\n"
     ]
    }
   ],
   "source": [
    "clf_log_reg = LogisticRegression(random_state=random_state)\n",
    "\n",
    "param_grid = {\n",
    "    'penalty' : ['l1'], # 'l1'\n",
    "    'C': np.linspace(0.0001, 1.0, 30),\n",
    "#     'solver': ['newton-cg', 'lbfgs', 'sag'] \n",
    "}\n",
    "\n",
    "clf = grid_search_clf(clf_log_reg, param_grid, X_train, y_train)\n",
    "print('log_loss: {0}'.format(clf_score(clf, X_test, y_test)))"
   ]
  },
  {
   "cell_type": "code",
   "execution_count": null,
   "metadata": {
    "collapsed": true
   },
   "outputs": [],
   "source": [
    "#  0.69091 on real data\n",
    "# (only current data)\n",
    "# Fitting 3 folds for each of 90 candidates, totalling 270 fits\n",
    "# best score: -0.691881892887\n",
    "# best estimator:\n",
    "# LogisticRegression(C=0.01, class_weight=None, dual=False, fit_intercept=True,\n",
    "#           intercept_scaling=1, max_iter=100, multi_class='ovr', n_jobs=1,\n",
    "#           penalty='l2', random_state=42, solver='sag', tol=0.0001,\n",
    "#           verbose=0, warm_start=False)\n",
    "# log_loss: 0.691494844159"
   ]
  },
  {
   "cell_type": "code",
   "execution_count": null,
   "metadata": {
    "collapsed": true
   },
   "outputs": [],
   "source": [
    "# WITH 8 Clusters using k-means 0.69109 on real data\n",
    "# (only current data)\n",
    "# Fitting 3 folds for each of 90 candidates, totalling 270 fits\n",
    "# best score: -0.691983447855\n",
    "# best estimator:\n",
    "# LogisticRegression(C=0.034579310344827592, class_weight=None, dual=False,\n",
    "#           fit_intercept=True, intercept_scaling=1, max_iter=100,\n",
    "#           multi_class='ovr', n_jobs=1, penalty='l2', random_state=42,\n",
    "#           solver='lbfgs', tol=0.0001, verbose=0, warm_start=False)\n",
    "# log_loss: 0.691421420986\n"
   ]
  },
  {
   "cell_type": "code",
   "execution_count": 14,
   "metadata": {
    "collapsed": false
   },
   "outputs": [],
   "source": [
    "clf = LogisticRegression(C=0.01, class_weight=None, dual=False, fit_intercept=True,\n",
    "    intercept_scaling=1, max_iter=100, multi_class='ovr', n_jobs=1,\n",
    "    penalty='l2', random_state=42, solver='sag', tol=0.0001,\n",
    "    verbose=0, warm_start=False)\n",
    "\n",
    "ans = get_ans(clf, X, y, test_data)\n",
    "ans.to_csv('test_ans.csv', index=False)"
   ]
  },
  {
   "cell_type": "code",
   "execution_count": 22,
   "metadata": {
    "collapsed": false
   },
   "outputs": [],
   "source": [
    "# 0.69109 on real data\n",
    "clst = KMeans(n_clusters=n_clusters)\n",
    "clst.fit(X);\n",
    "\n",
    "X_clust = add_clust_feature(clst, X)\n",
    "test_data_clust = add_clust_feature(clst, test_data)\n",
    "\n",
    "clf = LogisticRegression(C=0.034579310344827592, class_weight=None, dual=False,\n",
    "          fit_intercept=True, intercept_scaling=1, max_iter=100,\n",
    "          multi_class='ovr', n_jobs=1, penalty='l2', random_state=42,\n",
    "          solver='lbfgs', tol=0.0001, verbose=0, warm_start=False)\n",
    "\n",
    "ans = get_ans(clf, X_clust, y, test_data_clust)\n",
    "ans.to_csv('test_ans3.csv', index=False)"
   ]
  },
  {
   "cell_type": "code",
   "execution_count": null,
   "metadata": {
    "collapsed": true
   },
   "outputs": [],
   "source": [
    "#\n",
    "# Fitting 3 folds for each of 90 candidates, totalling 270 fits\n",
    "# best score: -0.691929279678\n",
    "# best estimator:\n",
    "# LogisticRegression(C=0.034579310344827592, class_weight=None, dual=False,\n",
    "#           fit_intercept=True, intercept_scaling=1, max_iter=100,\n",
    "#           multi_class='ovr', n_jobs=1, penalty='l2', random_state=42,\n",
    "#           solver='sag', tol=0.0001, verbose=0, warm_start=False)\n",
    "# log_loss: 0.69146868926"
   ]
  },
  {
   "cell_type": "code",
   "execution_count": 20,
   "metadata": {
    "collapsed": false
   },
   "outputs": [],
   "source": [
    "# TOP RESULT: 0.69065 on real data\n",
    "\n",
    "# Test using two datasets.\n",
    "clf = LogisticRegression(C=0.01, class_weight=None, dual=False, fit_intercept=True,\n",
    "    intercept_scaling=1, max_iter=100, multi_class='ovr', n_jobs=1,\n",
    "    penalty='l2', random_state=42, solver='sag', tol=0.0001,\n",
    "    verbose=0, warm_start=False)\n",
    "\n",
    "data = pd.read_csv('./../data/nai_train_2.csv')\n",
    "additional_data = pd.read_csv('./../data/nai_train.csv')\n",
    "all_data = pd.concat([data, additional_data])\n",
    "\n",
    "X = all_data.drop(['target'], axis=1)\n",
    "y = all_data['target']\n",
    "\n",
    "ans = get_ans(clf, X, y, test_data)\n",
    "ans.to_csv('test_ans6.csv', index=False)"
   ]
  },
  {
   "cell_type": "code",
   "execution_count": null,
   "metadata": {
    "collapsed": true
   },
   "outputs": [],
   "source": [
    "LogisticRegression(C=0.17249655172413794, class_weight=None, dual=False,\n",
    "          fit_intercept=True, intercept_scaling=1, max_iter=100,\n",
    "          multi_class='ovr', n_jobs=1, penalty='l1', random_state=42,\n",
    "          solver='liblinear', tol=0.0001, verbose=0, warm_start=False)\n",
    "\n",
    "ans = get_ans(clf, X, y, test_data)\n",
    "ans.to_csv('test_ans7.csv', index=False)"
   ]
  },
  {
   "cell_type": "markdown",
   "metadata": {},
   "source": [
    "# Compositions"
   ]
  },
  {
   "cell_type": "code",
   "execution_count": 115,
   "metadata": {
    "collapsed": true
   },
   "outputs": [],
   "source": [
    "# This composition doesn't work\n",
    "# LOGLOSS 0.69335\n",
    "clf1 = RandomForestClassifier(bootstrap=True, class_weight=None, criterion='gini',\n",
    "            max_depth=None, max_features='auto', max_leaf_nodes=None,\n",
    "            min_samples_leaf=6, min_samples_split=1,\n",
    "            min_weight_fraction_leaf=0.0, n_estimators=181, n_jobs=1,\n",
    "            oob_score=False, random_state=42, verbose=0, warm_start=False)\n",
    "\n",
    "clf2 = LogisticRegression(C=0.009, class_weight=None, dual=False, fit_intercept=True,\n",
    "          intercept_scaling=1, max_iter=100, multi_class='ovr', n_jobs=1,\n",
    "          penalty='l2', random_state=42, solver='liblinear', tol=0.0001,\n",
    "          verbose=0, warm_start=False)\n",
    "\n",
    "clf3 = LogisticRegression(C=0.004, class_weight=None, dual=False, fit_intercept=True,\n",
    "          intercept_scaling=1, max_iter=100, multi_class='ovr', n_jobs=1,\n",
    "          penalty='l2', random_state=42, solver='lbfgs', tol=0.0001,\n",
    "          verbose=0, warm_start=False)\n",
    "\n",
    "clf4 = LogisticRegression(C=0.01, class_weight=None, dual=False, fit_intercept=True,\n",
    "          intercept_scaling=1, max_iter=100, multi_class='ovr', n_jobs=1,\n",
    "          penalty='l2', random_state=42, solver='sag', tol=0.0001,\n",
    "          verbose=0, warm_start=False)\n",
    "\n",
    "# What if try differen algorithms with different waights ?\n",
    "ans1 = get_ans(clf1, X, y, test_data)\n",
    "ans2 = get_ans(clf2, X, y, test_data)\n",
    "ans3 = get_ans(clf2, X, y, test_data)\n",
    "ans4 = get_ans(clf, transform_data(X), y, test_data, transform=True)"
   ]
  },
  {
   "cell_type": "code",
   "execution_count": 116,
   "metadata": {
    "collapsed": false
   },
   "outputs": [],
   "source": [
    "compos_ans = pd.DataFrame(test_data['t_id'])\n",
    "compos_ans['probability'] = (ans1['probability'] + ans2['probability'] +\n",
    "                            ans3['probability'] + ans4['probability']) / 4.\n",
    "\n",
    "compos_ans.to_csv('test_ans.csv', index=False)"
   ]
  },
  {
   "cell_type": "markdown",
   "metadata": {},
   "source": [
    "## Tests"
   ]
  },
  {
   "cell_type": "code",
   "execution_count": 62,
   "metadata": {
    "collapsed": false
   },
   "outputs": [],
   "source": [
    "X = data[['feature15', 'feature14']]\n",
    "y = data['target']\n",
    "\n",
    "X_train, X_test, y_train, y_test = train_test_split(\n",
    "    X, y, test_size=0.33, random_state=random_state)"
   ]
  },
  {
   "cell_type": "code",
   "execution_count": 63,
   "metadata": {
    "collapsed": false
   },
   "outputs": [
    {
     "name": "stderr",
     "output_type": "stream",
     "text": [
      "[Parallel(n_jobs=-1)]: Done  42 tasks      | elapsed:  1.2min\n",
      "[Parallel(n_jobs=-1)]: Done 162 out of 162 | elapsed:  4.8min finished\n"
     ]
    },
    {
     "name": "stdout",
     "output_type": "stream",
     "text": [
      "Fitting 3 folds for each of 54 candidates, totalling 162 fits\n",
      "best score: -0.716290002778\n",
      "best estimator:\n",
      "RandomForestClassifier(bootstrap=True, class_weight=None, criterion='gini',\n",
      "            max_depth=None, max_features='auto', max_leaf_nodes=None,\n",
      "            min_samples_leaf=6, min_samples_split=1,\n",
      "            min_weight_fraction_leaf=0.0, n_estimators=200, n_jobs=1,\n",
      "            oob_score=False, random_state=42, verbose=0, warm_start=False)\n",
      "log_loss: 0.718744502298\n"
     ]
    }
   ],
   "source": [
    "clf_rf = RandomForestClassifier(random_state=random_state)\n",
    "\n",
    "param_grid = {\n",
    "    'n_estimators': [10, 30, 50, 100, 150, 200],\n",
    "    'min_samples_split': [1, 3, 6],\n",
    "    'min_samples_leaf': [1, 3, 6]\n",
    "    \n",
    "}\n",
    "\n",
    "clf = grid_search_clf(clf_rf, param_grid, X_train, y_train)\n",
    "print('log_loss: {0}'.format(clf_score(clf, X_test, y_test)))"
   ]
  },
  {
   "cell_type": "code",
   "execution_count": 88,
   "metadata": {
    "collapsed": false
   },
   "outputs": [
    {
     "name": "stderr",
     "output_type": "stream",
     "text": [
      "[Parallel(n_jobs=-1)]: Done  42 tasks      | elapsed:    5.6s\n",
      "[Parallel(n_jobs=-1)]: Done 192 tasks      | elapsed:   20.0s\n",
      "[Parallel(n_jobs=-1)]: Done 360 out of 360 | elapsed:   37.3s finished\n"
     ]
    },
    {
     "name": "stdout",
     "output_type": "stream",
     "text": [
      "Fitting 3 folds for each of 120 candidates, totalling 360 fits\n",
      "best score: -0.691955119629\n",
      "best estimator:\n",
      "LogisticRegression(C=0.010265384615384615, class_weight=None, dual=False,\n",
      "          fit_intercept=True, intercept_scaling=1, max_iter=100,\n",
      "          multi_class='ovr', n_jobs=1, penalty='l2', random_state=42,\n",
      "          solver='sag', tol=0.0001, verbose=0, warm_start=False)\n",
      "log_loss: 0.6914463265\n"
     ]
    }
   ],
   "source": [
    "# best: 'feature15', 'feature14' | 0.692590268446\n",
    "# 0.691447198504\n",
    "# 0.6914463265\n",
    "\n",
    "# NOT: feature6 - from bottom 'feature12' - from top\n",
    "\n",
    "X = data[['feature15', 'feature16',\n",
    "          'feature10', 'feature21', 'feature2', 'feature18',\n",
    "          'feature5', 'feature11', 'feature20', 'feature13', 'feature17',\n",
    "          'feature14', 'feature4']]\n",
    "y = data['target']\n",
    "\n",
    "X_train, X_test, y_train, y_test = train_test_split(\n",
    "    X, y, test_size=0.33, random_state=random_state)\n",
    "\n",
    "clf_log_reg = LogisticRegression(random_state=random_state)\n",
    "\n",
    "param_grid = {\n",
    "    'penalty' : ['l2'], # 'l1'\n",
    "    'C': np.linspace(0.00001, 0.1, 40),\n",
    "    'solver': ['newton-cg', 'lbfgs', 'sag'] \n",
    "}\n",
    "\n",
    "clf = grid_search_clf(clf_log_reg, param_grid, X_train, y_train)\n",
    "print('log_loss: {0}'.format(clf_score(clf, X_test, y_test)))"
   ]
  },
  {
   "cell_type": "code",
   "execution_count": null,
   "metadata": {
    "collapsed": true
   },
   "outputs": [],
   "source": [
    "# Fitting 3 folds for each of 120 candidates, totalling 360 fits\n",
    "# best score: -0.691955119629\n",
    "# best estimator:\n",
    "# LogisticRegression(C=0.010265384615384615, class_weight=None, dual=False,\n",
    "#           fit_intercept=True, intercept_scaling=1, max_iter=100,\n",
    "#           multi_class='ovr', n_jobs=1, penalty='l2', random_state=42,\n",
    "#           solver='sag', tol=0.0001, verbose=0, warm_start=False)\n",
    "# log_loss: 0.6914463265"
   ]
  },
  {
   "cell_type": "code",
   "execution_count": 99,
   "metadata": {
    "collapsed": false
   },
   "outputs": [],
   "source": [
    "test_data = pd.read_csv('./../data/nai_test_2.csv')\n",
    "\n",
    "clf = LogisticRegression(C=0.010265384615384615, class_weight=None, dual=False,\n",
    "          fit_intercept=True, intercept_scaling=1, max_iter=100,\n",
    "          multi_class='ovr', n_jobs=1, penalty='l2', random_state=42,\n",
    "          solver='sag', tol=0.0001, verbose=0, warm_start=False)\n",
    "\n",
    "\n",
    "features = ['feature15', 'feature16', 'feature10', 'feature21',\n",
    "        'feature2', 'feature18', 'feature5', 'feature11', 'feature20',\n",
    "        'feature13', 'feature17', 'feature14', 'feature4']\n",
    "\n",
    "test_data[features]\n",
    "test_data[features]\n",
    "\n",
    "ans = get_ans(clf, data[features], y, test_data[features + ['t_id']])\n",
    "ans.to_csv('test_ans2.csv', index=False)"
   ]
  },
  {
   "cell_type": "markdown",
   "metadata": {},
   "source": [
    "## XGB"
   ]
  },
  {
   "cell_type": "code",
   "execution_count": 6,
   "metadata": {
    "collapsed": false
   },
   "outputs": [
    {
     "name": "stderr",
     "output_type": "stream",
     "text": [
      "[Parallel(n_jobs=-1)]: Done  42 tasks      | elapsed:   47.8s\n",
      "[Parallel(n_jobs=-1)]: Done 135 out of 135 | elapsed:  2.9min finished\n"
     ]
    },
    {
     "name": "stdout",
     "output_type": "stream",
     "text": [
      "Fitting 3 folds for each of 45 candidates, totalling 135 fits\n",
      "best score: -0.692903105464\n",
      "best estimator:\n",
      "XGBClassifier(base_score=0.5, colsample_bylevel=1, colsample_bytree=1,\n",
      "       gamma=0, learning_rate=0.25007499999999999, max_delta_step=0,\n",
      "       max_depth=3, min_child_weight=1, missing=None, n_estimators=25,\n",
      "       nthread=-1, objective='binary:logistic', reg_alpha=0, reg_lambda=1,\n",
      "       scale_pos_weight=1, seed=0, silent=True, subsample=1)\n",
      "GridSearchCV(cv=None, error_score='raise',\n",
      "       estimator=XGBClassifier(base_score=0.5, colsample_bylevel=1, colsample_bytree=1,\n",
      "       gamma=0, learning_rate=0.1, max_delta_step=0, max_depth=3,\n",
      "       min_child_weight=1, missing=None, n_estimators=100, nthread=-1,\n",
      "       objective='binary:logistic', reg_alpha=0, reg_lambda=1,\n",
      "       scale_pos_weight=1, seed=0, silent=True, subsample=1),\n",
      "       fit_params={}, iid=True, n_jobs=-1,\n",
      "       param_grid={'n_estimators': [25, 50, 100], 'learning_rate': array([  1.00000e-04,   2.50075e-01,   5.00050e-01,   7.50025e-01,\n",
      "         1.00000e+00]), 'max_depth': [3, 5, 8]},\n",
      "       pre_dispatch='2*n_jobs', refit=True, scoring='log_loss',\n",
      "       verbose=True)\n"
     ]
    }
   ],
   "source": [
    "import xgboost as xgb\n",
    "\n",
    "\n",
    "param_grid = {\n",
    "     'max_depth' : [3, 5, 8],\n",
    "    'n_estimators' : [25, 50, 100],\n",
    "    'learning_rate': np.linspace(0.0001, 1, 5),\n",
    "}\n",
    "\n",
    "xclf = xgb.XGBClassifier()\n",
    "\n",
    "clf = grid_search_clf(xclf, param_grid, X_train, y_train)\n",
    "\n",
    "# xclf = xgb.XGBClassifier(max_depth=3, n_estimators=300,\n",
    "#                   learning_rate=0.05).fit(X_train, y_train)\n",
    "\n",
    "print clf"
   ]
  },
  {
   "cell_type": "code",
   "execution_count": 8,
   "metadata": {
    "collapsed": false
   },
   "outputs": [
    {
     "data": {
      "text/plain": [
       "16.394907546844362"
      ]
     },
     "execution_count": 8,
     "metadata": {},
     "output_type": "execute_result"
    }
   ],
   "source": [
    "pred = clf.predict(X_test)\n",
    "accuracy_score(y_test, pred)\n",
    "\n",
    "log_loss(y_test, pred)"
   ]
  }
 ],
 "metadata": {
  "kernelspec": {
   "display_name": "Python 2",
   "language": "python",
   "name": "python2"
  },
  "language_info": {
   "codemirror_mode": {
    "name": "ipython",
    "version": 2
   },
   "file_extension": ".py",
   "mimetype": "text/x-python",
   "name": "python",
   "nbconvert_exporter": "python",
   "pygments_lexer": "ipython2",
   "version": "2.7.11"
  }
 },
 "nbformat": 4,
 "nbformat_minor": 0
}
