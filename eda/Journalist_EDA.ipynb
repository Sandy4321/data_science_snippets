{
 "cells": [
  {
   "cell_type": "code",
   "execution_count": 1,
   "metadata": {
    "collapsed": false
   },
   "outputs": [],
   "source": [
    "import numpy as np\n",
    "import pandas as pd\n",
    "import pandas_profiling\n",
    "import matplotlib.pyplot as plt\n",
    "import seaborn as sns\n",
    "from ggplot import *\n",
    "%matplotlib inline\n",
    "plt.style.use('ggplot')"
   ]
  },
  {
   "cell_type": "code",
   "execution_count": 2,
   "metadata": {
    "collapsed": false
   },
   "outputs": [
    {
     "data": {
      "text/html": [
       "<div>\n",
       "<table border=\"1\" class=\"dataframe\">\n",
       "  <thead>\n",
       "    <tr style=\"text-align: right;\">\n",
       "      <th></th>\n",
       "      <th>Type</th>\n",
       "      <th>Date</th>\n",
       "      <th>Name</th>\n",
       "      <th>Sex</th>\n",
       "      <th>Country_killed</th>\n",
       "      <th>Organization</th>\n",
       "      <th>Nationality</th>\n",
       "      <th>Medium</th>\n",
       "      <th>Job</th>\n",
       "      <th>Coverage</th>\n",
       "      <th>Freelance</th>\n",
       "      <th>Local_Foreign</th>\n",
       "      <th>Source_fire</th>\n",
       "      <th>Type_death</th>\n",
       "      <th>Impunity_for_murder</th>\n",
       "      <th>Taken_captive</th>\n",
       "      <th>Threatened</th>\n",
       "      <th>Tortured</th>\n",
       "    </tr>\n",
       "  </thead>\n",
       "  <tbody>\n",
       "    <tr>\n",
       "      <th>0</th>\n",
       "      <td>Motive Confirmed</td>\n",
       "      <td>October 22, 2016</td>\n",
       "      <td>Ali Risan</td>\n",
       "      <td>Male</td>\n",
       "      <td>Iraq</td>\n",
       "      <td>Al-Sumaria TV</td>\n",
       "      <td>Iraqi</td>\n",
       "      <td>Television, Internet</td>\n",
       "      <td>Camera Operator</td>\n",
       "      <td>War</td>\n",
       "      <td>No</td>\n",
       "      <td>Local</td>\n",
       "      <td>Political Group</td>\n",
       "      <td>Crossfire/Combat-Related</td>\n",
       "      <td>NaN</td>\n",
       "      <td>NaN</td>\n",
       "      <td>NaN</td>\n",
       "      <td>\\n</td>\n",
       "    </tr>\n",
       "    <tr>\n",
       "      <th>1</th>\n",
       "      <td>Motive Confirmed</td>\n",
       "      <td>October 21, 2016</td>\n",
       "      <td>Ahmet Haceroğlu</td>\n",
       "      <td>Male</td>\n",
       "      <td>Iraq</td>\n",
       "      <td>Türkmeneli TV</td>\n",
       "      <td>Iraqi</td>\n",
       "      <td>Television</td>\n",
       "      <td>Producer</td>\n",
       "      <td>Politics, War</td>\n",
       "      <td>No</td>\n",
       "      <td>Local</td>\n",
       "      <td>Political Group</td>\n",
       "      <td>Crossfire/Combat-Related</td>\n",
       "      <td>NaN</td>\n",
       "      <td>NaN</td>\n",
       "      <td>NaN</td>\n",
       "      <td>\\n</td>\n",
       "    </tr>\n",
       "  </tbody>\n",
       "</table>\n",
       "</div>"
      ],
      "text/plain": [
       "               Type              Date             Name   Sex Country_killed  \\\n",
       "0  Motive Confirmed  October 22, 2016        Ali Risan  Male           Iraq   \n",
       "1  Motive Confirmed  October 21, 2016  Ahmet Haceroğlu  Male           Iraq   \n",
       "\n",
       "    Organization Nationality                Medium              Job  \\\n",
       "0  Al-Sumaria TV       Iraqi  Television, Internet  Camera Operator   \n",
       "1  Türkmeneli TV       Iraqi            Television         Producer   \n",
       "\n",
       "        Coverage Freelance Local_Foreign      Source_fire  \\\n",
       "0            War        No         Local  Political Group   \n",
       "1  Politics, War        No         Local  Political Group   \n",
       "\n",
       "                 Type_death Impunity_for_murder Taken_captive Threatened  \\\n",
       "0  Crossfire/Combat-Related                 NaN           NaN        NaN   \n",
       "1  Crossfire/Combat-Related                 NaN           NaN        NaN   \n",
       "\n",
       "  Tortured  \n",
       "0       \\n  \n",
       "1       \\n  "
      ]
     },
     "execution_count": 2,
     "metadata": {},
     "output_type": "execute_result"
    }
   ],
   "source": [
    "data = pd.read_csv('../data/cpj.csv')\n",
    "data.head(2)"
   ]
  },
  {
   "cell_type": "code",
   "execution_count": 3,
   "metadata": {
    "collapsed": false
   },
   "outputs": [
    {
     "name": "stdout",
     "output_type": "stream",
     "text": [
      "Data shape: (1782, 18)\n"
     ]
    },
    {
     "data": {
      "text/plain": [
       "Index([u'Type', u'Date', u'Name', u'Sex', u'Country_killed', u'Organization',\n",
       "       u'Nationality', u'Medium', u'Job', u'Coverage', u'Freelance',\n",
       "       u'Local_Foreign', u'Source_fire', u'Type_death', u'Impunity_for_murder',\n",
       "       u'Taken_captive', u'Threatened', u'Tortured'],\n",
       "      dtype='object')"
      ]
     },
     "execution_count": 3,
     "metadata": {},
     "output_type": "execute_result"
    }
   ],
   "source": [
    "print('Data shape: {}'.format(data.shape))\n",
    "data.columns"
   ]
  },
  {
   "cell_type": "markdown",
   "metadata": {},
   "source": [
    "## Data cleaning and preparing"
   ]
  },
  {
   "cell_type": "code",
   "execution_count": null,
   "metadata": {
    "collapsed": true
   },
   "outputs": [],
   "source": [
    "# Clearing date format\n",
    "# If Date is unknown, set to latest possible.\n",
    "data[data['Date'] == 'October 2015 - June 2016'] = 'June 01, 2016'\n",
    "data[data['Date'] == 'January 30 to February 24, 2016'] = 'February 24, 2016'\n",
    "data[data['Date'] == 'August 2015'] = 'August 01, 2015'\n",
    "data[data['Date'] == 'May 22 or 23, 2015'] = 'May 24, 2015'\n",
    "data[data['Date'] == 'May 13, 14, 15, 16, 17, or 18, 2015'] = 'May 18, 2015'\n",
    "data[data['Date'] == 'May 2,3 or 4, 2015'] = 'May 04, 2015'\n",
    "data[data['Date'] == 'Unknown'] = 'June 01, 1990'\n",
    "data[data['Date'] == 'January 2015'] = 'January 01, 2015'\n",
    "data[data['Date'] == 'August or September, 2014'] = 'September 01, 2014'\n",
    "data[data['Date'] == 'August 2014'] = 'August 01, 2014'\n",
    "data[data['Date'] == 'May 2014'] = 'May 01, 2014'\n",
    "data[data['Date'] == 'Between February 5 and 11, 2014'] = 'February 11, 2014'\n",
    "data[data['Date'] == 'November 19 or 20, 2011'] = 'November 20, 2011'\n",
    "data[data['Date'] == 'November 2011'] = 'November 01, 2011'\n",
    "data[data['Date'] == 'May 29 or 30, 2011'] = 'May 30, 2011'\n",
    "data[data['Date'] == 'March 2011'] = 'March 01, 2011'\n",
    "data[data['Date'] == 'May 9 or 10, 2010'] = 'May 10, 2010'\n",
    "data[data['Date'] == 'May 18 or 19, 2009'] = 'May 19, 2009'"
   ]
  },
  {
   "cell_type": "code",
   "execution_count": 8,
   "metadata": {
    "collapsed": false
   },
   "outputs": [],
   "source": [
    "data['Date'] = pd.to_datetime(data['Date'], format='%B %d, %Y', errors='coerce')\n",
    "data = data[data['Date'].notnull()]\n",
    "data['Year'] = data['Date'].map(lambda it: it.year)"
   ]
  },
  {
   "cell_type": "markdown",
   "metadata": {},
   "source": [
    "## Plots"
   ]
  },
  {
   "cell_type": "code",
   "execution_count": 131,
   "metadata": {
    "collapsed": false
   },
   "outputs": [],
   "source": [
    "def count_plot(data, x):\n",
    "    sns.set(font_scale=1.2)\n",
    "    sns.set(style='darkgrid')\n",
    "    g = sns.factorplot(x=x, data=data, kind='count', size=8, aspect=1.5,\n",
    "              palette='BuPu')\n",
    "    plt.show()\n",
    "    return g\n",
    "\n",
    "def top_count_plot(data, col_name):\n",
    "    sns.set(font_scale=1.3)\n",
    "    plt.rcParams['figure.figsize'] = (16,9)\n",
    "    killed_by_col_name = data[col_name].value_counts()[:10]\n",
    "    pd.DataFrame(killed_by_col_name, index=None)\n",
    "    sns.barplot(killed_by_col_name.index, killed_by_col_name.values, palette='BuPu')"
   ]
  },
  {
   "cell_type": "code",
   "execution_count": 107,
   "metadata": {
    "collapsed": false,
    "scrolled": false
   },
   "outputs": [
    {
     "data": {
      "image/png": "[encoded data removed]",
      "text/plain": [
       "<matplotlib.figure.Figure at 0x29970588>"
      ]
     },
     "metadata": {},
     "output_type": "display_data"
    },
    {
     "data": {
      "text/plain": [
       "<seaborn.axisgrid.FacetGrid at 0x299706d8>"
      ]
     },
     "execution_count": 107,
     "metadata": {},
     "output_type": "execute_result"
    }
   ],
   "source": [
    "count_plot(data, 'Year')"
   ]
  },
  {
   "cell_type": "code",
   "execution_count": 132,
   "metadata": {
    "collapsed": false
   },
   "outputs": [
    {
     "data": {
      "image/png": "[encoded data removed]",
      "text/plain": [
       "<matplotlib.figure.Figure at 0x29c6e160>"
      ]
     },
     "metadata": {},
     "output_type": "display_data"
    }
   ],
   "source": [
    "top_count_plot(data, 'Country_killed')"
   ]
  },
  {
   "cell_type": "code",
   "execution_count": 133,
   "metadata": {
    "collapsed": false
   },
   "outputs": [
    {
     "data": {
      "image/png": "[encoded data removed]",
      "text/plain": [
       "<matplotlib.figure.Figure at 0x2a06fe10>"
      ]
     },
     "metadata": {},
     "output_type": "display_data"
    }
   ],
   "source": [
    "top_count_plot(data, 'Nationality')"
   ]
  },
  {
   "cell_type": "code",
   "execution_count": 127,
   "metadata": {
    "collapsed": false
   },
   "outputs": [
    {
     "data": {
      "text/plain": [
       "Country_killed  Year\n",
       "Afghanistan     1994     1\n",
       "                1998     1\n",
       "                2001     9\n",
       "                2006     3\n",
       "                2007     3\n",
       "                2008     1\n",
       "                2009     3\n",
       "                2010     3\n",
       "                2011     2\n",
       "                2014     5\n",
       "                2016     3\n",
       "Algeria         1992     1\n",
       "                1993     8\n",
       "                1994    19\n",
       "                1995    24\n",
       "                1996     7\n",
       "                2001     2\n",
       "Angola          1992     1\n",
       "                1993     3\n",
       "                1994     1\n",
       "                1995     1\n",
       "                1996     1\n",
       "                1998     1\n",
       "                1999     1\n",
       "                2010     2\n",
       "Argentina       1993     1\n",
       "                1997     1\n",
       "                1999     1\n",
       "                2010     1\n",
       "Armenia         2002     1\n",
       "                        ..\n",
       "Uganda          2011     1\n",
       "Ukraine         1995     2\n",
       "                1996     1\n",
       "                1997     2\n",
       "                2000     2\n",
       "                2001     2\n",
       "                2004     1\n",
       "                2014     7\n",
       "                2015     1\n",
       "                2016     1\n",
       "Uruguay         2000     1\n",
       "Uzbekistan      1996     1\n",
       "Venezuela       1992     1\n",
       "                1993     1\n",
       "                2002     1\n",
       "                2004     1\n",
       "                2006     2\n",
       "                2008     1\n",
       "                2009     1\n",
       "                2011     1\n",
       "Vietnam         2011     1\n",
       "Yemen           2010     1\n",
       "                2011     3\n",
       "                2014     2\n",
       "                2015     8\n",
       "                2016     5\n",
       "Yugoslavia      1999     6\n",
       "                2000     1\n",
       "                2001     3\n",
       "Zimbabwe        2007     1\n",
       "dtype: int64"
      ]
     },
     "execution_count": 127,
     "metadata": {},
     "output_type": "execute_result"
    }
   ],
   "source": [
    "kills_by_country_and_year = data[['Country_killed', 'Year']].groupby(['Country_killed', 'Year']).size()"
   ]
  },
  {
   "cell_type": "code",
   "execution_count": 126,
   "metadata": {
    "collapsed": false
   },
   "outputs": [
    {
     "ename": "TypeError",
     "evalue": "'int' object is not callable",
     "output_type": "error",
     "traceback": [
      "\u001b[1;31m---------------------------------------------------------------------------\u001b[0m",
      "\u001b[1;31mTypeError\u001b[0m                                 Traceback (most recent call last)",
      "\u001b[1;32m<ipython-input-126-1223def87208>\u001b[0m in \u001b[0;36m<module>\u001b[1;34m()\u001b[0m\n\u001b[1;32m----> 1\u001b[1;33m \u001b[0mdata\u001b[0m\u001b[1;33m.\u001b[0m\u001b[0mpivot_table\u001b[0m\u001b[1;33m(\u001b[0m\u001b[1;34m'Year'\u001b[0m\u001b[1;33m,\u001b[0m \u001b[1;34m'Country_killed'\u001b[0m\u001b[1;33m)\u001b[0m\u001b[1;33m.\u001b[0m\u001b[0msize\u001b[0m\u001b[1;33m(\u001b[0m\u001b[1;33m)\u001b[0m\u001b[1;33m\u001b[0m\u001b[0m\n\u001b[0m",
      "\u001b[1;31mTypeError\u001b[0m: 'int' object is not callable"
     ]
    }
   ],
   "source": [
    "data.pivot_table('Year', 'Country_killed').size()"
   ]
  }
 ],
 "metadata": {
  "kernelspec": {
   "display_name": "Python 2",
   "language": "python",
   "name": "python2"
  },
  "language_info": {
   "codemirror_mode": {
    "name": "ipython",
    "version": 2
   },
   "file_extension": ".py",
   "mimetype": "text/x-python",
   "name": "python",
   "nbconvert_exporter": "python",
   "pygments_lexer": "ipython2",
   "version": "2.7.11"
  }
 },
 "nbformat": 4,
 "nbformat_minor": 0
}
