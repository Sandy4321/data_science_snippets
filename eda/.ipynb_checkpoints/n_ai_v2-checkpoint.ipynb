{
 "cells": [
  {
   "cell_type": "code",
   "execution_count": 1,
   "metadata": {
    "collapsed": false
   },
   "outputs": [
    {
     "name": "stderr",
     "output_type": "stream",
     "text": [
      "D:\\soft\\dev\\anaconda\\lib\\site-packages\\pandas\\computation\\__init__.py:19: UserWarning: The installed version of numexpr 2.4.4 is not supported in pandas and will be not be used\n",
      "\n",
      "  UserWarning)\n"
     ]
    }
   ],
   "source": [
    "# imports and configs\n",
    "\n",
    "import pandas as pd\n",
    "import numpy as np\n",
    "import matplotlib.pyplot as plt\n",
    "from sklearn.metrics import log_loss\n",
    "from sklearn.cross_validation import train_test_split\n",
    "from sklearn.preprocessing import normalize\n",
    "from sklearn.grid_search import GridSearchCV\n",
    "\n",
    "import xgboost as xgb\n",
    "\n",
    "from sklearn.ensemble import RandomForestClassifier\n",
    "from sklearn.linear_model import LogisticRegression\n",
    "\n",
    "from sklearn.metrics import accuracy_score\n",
    "%matplotlib inline\n",
    "plt.style.use('ggplot')\n",
    "\n",
    "random_state = 42\n",
    "normalize_data = True"
   ]
  },
  {
   "cell_type": "code",
   "execution_count": 2,
   "metadata": {
    "collapsed": true
   },
   "outputs": [],
   "source": [
    "def grid_search_clf(clf_to_train, param_grid, X_train, y_train, show=False):\n",
    "    clf = GridSearchCV(estimator=clf_to_train, param_grid=param_grid,\n",
    "                   n_jobs=-1, scoring='log_loss', verbose=True)\n",
    "    clf.fit(X_train, y_train)\n",
    "    if show:\n",
    "        print('best score: {0}'.format(clf.best_score_))\n",
    "        print('best estimator:')\n",
    "        print(clf.best_estimator_)\n",
    "    return clf\n",
    "\n",
    "def clf_score(clf, X_test, y_test):\n",
    "    clf_probs = clf.predict_proba(X_test)\n",
    "    return log_loss(y_test, clf_probs)\n",
    "\n",
    "def get_ans(clf, X, y, X_real, index_col ,transform=False):\n",
    "    clf.fit(X, y)\n",
    "    tmp_pred = clf.predict_proba(X_real)\n",
    "    pred = [it[1] for it in tmp_pred]\n",
    "    ans = index_col.copy()\n",
    "    ans['probability'] = pred\n",
    "    return ans\n",
    "\n",
    "def normalize_df(df, cols_to_norm):\n",
    "    return df[cols_to_norm].apply(lambda x: (x - x.mean()) / (x.max() - x.min()))"
   ]
  },
  {
   "cell_type": "code",
   "execution_count": 3,
   "metadata": {
    "collapsed": false
   },
   "outputs": [],
   "source": [
    "# read data\n",
    "train_file = './../data/nai_train_3.csv'\n",
    "test_file = './../data/nai_test_3.csv'\n",
    "\n",
    "data = pd.read_csv(train_file)\n",
    "test_data = pd.read_csv(test_file)\n",
    "X = data.drop(['target'], axis=1)\n",
    "y = data['target']\n",
    "\n",
    "X_real = test_data.drop(['t_id'], axis=1)\n",
    "id_real = pd.DataFrame(test_data['t_id'].copy())\n",
    "\n",
    "if normalize_data:\n",
    "    X = normalize_df(X, X.columns)\n",
    "    X_real = normalize_df(X_real, X_real.columns)"
   ]
  },
  {
   "cell_type": "code",
   "execution_count": 12,
   "metadata": {
    "collapsed": false
   },
   "outputs": [],
   "source": [
    "X_train, X_test, y_train, y_test = train_test_split(\n",
    "    X, y, test_size=0.20, random_state=random_state)"
   ]
  },
  {
   "cell_type": "code",
   "execution_count": 16,
   "metadata": {
    "collapsed": false
   },
   "outputs": [
    {
     "name": "stderr",
     "output_type": "stream",
     "text": [
      "[Parallel(n_jobs=-1)]: Done  42 tasks      | elapsed:    6.1s\n",
      "[Parallel(n_jobs=-1)]: Done 192 tasks      | elapsed:   26.1s\n",
      "[Parallel(n_jobs=-1)]: Done 442 tasks      | elapsed:  1.1min\n",
      "[Parallel(n_jobs=-1)]: Done 792 tasks      | elapsed:  2.0min\n",
      "[Parallel(n_jobs=-1)]: Done 1242 tasks      | elapsed:  3.1min\n",
      "[Parallel(n_jobs=-1)]: Done 1792 tasks      | elapsed:  4.6min\n",
      "[Parallel(n_jobs=-1)]: Done 2442 tasks      | elapsed:  6.3min\n",
      "[Parallel(n_jobs=-1)]: Done 3192 tasks      | elapsed:  8.3min\n",
      "[Parallel(n_jobs=-1)]: Done 4042 tasks      | elapsed: 10.9min\n",
      "[Parallel(n_jobs=-1)]: Done 4050 out of 4050 | elapsed: 10.9min finished\n"
     ]
    },
    {
     "name": "stdout",
     "output_type": "stream",
     "text": [
      "Fitting 3 folds for each of 1350 candidates, totalling 4050 fits\n",
      "best score: -0.691816564743\n",
      "best estimator:\n",
      "LogisticRegression(C=2.0409142857142859, class_weight=None, dual=False,\n",
      "          fit_intercept=True, intercept_scaling=1, max_iter=1000,\n",
      "          multi_class='ovr', n_jobs=-1, penalty='l2', random_state=42,\n",
      "          solver='sag', tol=0.01, verbose=0, warm_start=False)\n",
      "log_loss: 0.691449473179\n",
      "Done with log reg\n",
      "\n",
      "\n",
      "==========================\n",
      "\n",
      "\n"
     ]
    }
   ],
   "source": [
    "# Log Regression on scaled data\n",
    "clf_log_reg = LogisticRegression(random_state=random_state, n_jobs=-1, max_iter=1000)\n",
    "\n",
    "X = normalize_df(X, X.columns)\n",
    "X_train, X_test, y_train, y_test = train_test_split(\n",
    "    X, y, test_size=0.20, random_state=random_state)\n",
    "\n",
    "X_real = test_data.drop(['t_id'], axis=1)\n",
    "X_real = normalize_df(X_real, X_real.columns)\n",
    "id_real = pd.DataFrame(test_data['t_id'].copy())\n",
    "\n",
    "\n",
    "param_grid = {\n",
    "    'penalty' : ['l2'], # 'l1'\n",
    "    'C': np.linspace(0.0001, 100.0, 50),\n",
    "    'tol': [0.00001, 0.0001, 0.0005, 0.001, 0.01, 0.1, 1, 10, 100],\n",
    "    'solver': ['newton-cg', 'lbfgs', 'sag']\n",
    "}\n",
    "\n",
    "clf = grid_search_clf(clf_log_reg, param_grid, X_train, y_train, show=True)\n",
    "print('log_loss: {0}'.format(clf_score(clf, X_test, y_test)))\n",
    "\n",
    "print \"Done with log reg\"\n",
    "print \"\\n\\n==========================\\n\\n\""
   ]
  },
  {
   "cell_type": "code",
   "execution_count": 18,
   "metadata": {
    "collapsed": false
   },
   "outputs": [
    {
     "ename": "ValueError",
     "evalue": "X has 21 features per sample; expecting 42",
     "output_type": "error",
     "traceback": [
      "\u001b[1;31m---------------------------------------------------------------------------\u001b[0m",
      "\u001b[1;31mValueError\u001b[0m                                Traceback (most recent call last)",
      "\u001b[1;32m<ipython-input-18-ce4c68e7dcd8>\u001b[0m in \u001b[0;36m<module>\u001b[1;34m()\u001b[0m\n\u001b[0;32m     10\u001b[0m \u001b[0mid_real\u001b[0m \u001b[1;33m=\u001b[0m \u001b[0mpd\u001b[0m\u001b[1;33m.\u001b[0m\u001b[0mDataFrame\u001b[0m\u001b[1;33m(\u001b[0m\u001b[0mtest_data\u001b[0m\u001b[1;33m[\u001b[0m\u001b[1;34m't_id'\u001b[0m\u001b[1;33m]\u001b[0m\u001b[1;33m.\u001b[0m\u001b[0mcopy\u001b[0m\u001b[1;33m(\u001b[0m\u001b[1;33m)\u001b[0m\u001b[1;33m)\u001b[0m\u001b[1;33m\u001b[0m\u001b[0m\n\u001b[0;32m     11\u001b[0m \u001b[1;33m\u001b[0m\u001b[0m\n\u001b[1;32m---> 12\u001b[1;33m \u001b[0mans\u001b[0m \u001b[1;33m=\u001b[0m \u001b[0mget_ans\u001b[0m\u001b[1;33m(\u001b[0m\u001b[0mclf\u001b[0m\u001b[1;33m,\u001b[0m \u001b[0mX\u001b[0m\u001b[1;33m,\u001b[0m \u001b[0my\u001b[0m\u001b[1;33m,\u001b[0m \u001b[0mX_real\u001b[0m\u001b[1;33m,\u001b[0m \u001b[0mid_real\u001b[0m\u001b[1;33m)\u001b[0m\u001b[1;33m\u001b[0m\u001b[0m\n\u001b[0m\u001b[0;32m     13\u001b[0m \u001b[0mans\u001b[0m\u001b[1;33m.\u001b[0m\u001b[0mto_csv\u001b[0m\u001b[1;33m(\u001b[0m\u001b[1;34m'test_ans.csv'\u001b[0m\u001b[1;33m,\u001b[0m \u001b[0mindex\u001b[0m\u001b[1;33m=\u001b[0m\u001b[0mFalse\u001b[0m\u001b[1;33m)\u001b[0m\u001b[1;33m\u001b[0m\u001b[0m\n",
      "\u001b[1;32m<ipython-input-2-d0efd49eeeff>\u001b[0m in \u001b[0;36mget_ans\u001b[1;34m(clf, X, y, X_real, index_col, transform)\u001b[0m\n\u001b[0;32m     15\u001b[0m \u001b[1;32mdef\u001b[0m \u001b[0mget_ans\u001b[0m\u001b[1;33m(\u001b[0m\u001b[0mclf\u001b[0m\u001b[1;33m,\u001b[0m \u001b[0mX\u001b[0m\u001b[1;33m,\u001b[0m \u001b[0my\u001b[0m\u001b[1;33m,\u001b[0m \u001b[0mX_real\u001b[0m\u001b[1;33m,\u001b[0m \u001b[0mindex_col\u001b[0m \u001b[1;33m,\u001b[0m\u001b[0mtransform\u001b[0m\u001b[1;33m=\u001b[0m\u001b[0mFalse\u001b[0m\u001b[1;33m)\u001b[0m\u001b[1;33m:\u001b[0m\u001b[1;33m\u001b[0m\u001b[0m\n\u001b[0;32m     16\u001b[0m     \u001b[0mclf\u001b[0m\u001b[1;33m.\u001b[0m\u001b[0mfit\u001b[0m\u001b[1;33m(\u001b[0m\u001b[0mX\u001b[0m\u001b[1;33m,\u001b[0m \u001b[0my\u001b[0m\u001b[1;33m)\u001b[0m\u001b[1;33m\u001b[0m\u001b[0m\n\u001b[1;32m---> 17\u001b[1;33m     \u001b[0mtmp_pred\u001b[0m \u001b[1;33m=\u001b[0m \u001b[0mclf\u001b[0m\u001b[1;33m.\u001b[0m\u001b[0mpredict_proba\u001b[0m\u001b[1;33m(\u001b[0m\u001b[0mX_real\u001b[0m\u001b[1;33m)\u001b[0m\u001b[1;33m\u001b[0m\u001b[0m\n\u001b[0m\u001b[0;32m     18\u001b[0m     \u001b[0mpred\u001b[0m \u001b[1;33m=\u001b[0m \u001b[1;33m[\u001b[0m\u001b[0mit\u001b[0m\u001b[1;33m[\u001b[0m\u001b[1;36m1\u001b[0m\u001b[1;33m]\u001b[0m \u001b[1;32mfor\u001b[0m \u001b[0mit\u001b[0m \u001b[1;32min\u001b[0m \u001b[0mtmp_pred\u001b[0m\u001b[1;33m]\u001b[0m\u001b[1;33m\u001b[0m\u001b[0m\n\u001b[0;32m     19\u001b[0m     \u001b[0mans\u001b[0m \u001b[1;33m=\u001b[0m \u001b[0mindex_col\u001b[0m\u001b[1;33m.\u001b[0m\u001b[0mcopy\u001b[0m\u001b[1;33m(\u001b[0m\u001b[1;33m)\u001b[0m\u001b[1;33m\u001b[0m\u001b[0m\n",
      "\u001b[1;32mD:\\soft\\dev\\anaconda\\lib\\site-packages\\sklearn\\linear_model\\logistic.pyc\u001b[0m in \u001b[0;36mpredict_proba\u001b[1;34m(self, X)\u001b[0m\n\u001b[0;32m   1250\u001b[0m         \u001b[0mcalculate_ovr\u001b[0m \u001b[1;33m=\u001b[0m \u001b[0mself\u001b[0m\u001b[1;33m.\u001b[0m\u001b[0mcoef_\u001b[0m\u001b[1;33m.\u001b[0m\u001b[0mshape\u001b[0m\u001b[1;33m[\u001b[0m\u001b[1;36m0\u001b[0m\u001b[1;33m]\u001b[0m \u001b[1;33m==\u001b[0m \u001b[1;36m1\u001b[0m \u001b[1;32mor\u001b[0m \u001b[0mself\u001b[0m\u001b[1;33m.\u001b[0m\u001b[0mmulti_class\u001b[0m \u001b[1;33m==\u001b[0m \u001b[1;34m\"ovr\"\u001b[0m\u001b[1;33m\u001b[0m\u001b[0m\n\u001b[0;32m   1251\u001b[0m         \u001b[1;32mif\u001b[0m \u001b[0mcalculate_ovr\u001b[0m\u001b[1;33m:\u001b[0m\u001b[1;33m\u001b[0m\u001b[0m\n\u001b[1;32m-> 1252\u001b[1;33m             \u001b[1;32mreturn\u001b[0m \u001b[0msuper\u001b[0m\u001b[1;33m(\u001b[0m\u001b[0mLogisticRegression\u001b[0m\u001b[1;33m,\u001b[0m \u001b[0mself\u001b[0m\u001b[1;33m)\u001b[0m\u001b[1;33m.\u001b[0m\u001b[0m_predict_proba_lr\u001b[0m\u001b[1;33m(\u001b[0m\u001b[0mX\u001b[0m\u001b[1;33m)\u001b[0m\u001b[1;33m\u001b[0m\u001b[0m\n\u001b[0m\u001b[0;32m   1253\u001b[0m         \u001b[1;32melse\u001b[0m\u001b[1;33m:\u001b[0m\u001b[1;33m\u001b[0m\u001b[0m\n\u001b[0;32m   1254\u001b[0m             \u001b[1;32mreturn\u001b[0m \u001b[0msoftmax\u001b[0m\u001b[1;33m(\u001b[0m\u001b[0mself\u001b[0m\u001b[1;33m.\u001b[0m\u001b[0mdecision_function\u001b[0m\u001b[1;33m(\u001b[0m\u001b[0mX\u001b[0m\u001b[1;33m)\u001b[0m\u001b[1;33m,\u001b[0m \u001b[0mcopy\u001b[0m\u001b[1;33m=\u001b[0m\u001b[0mFalse\u001b[0m\u001b[1;33m)\u001b[0m\u001b[1;33m\u001b[0m\u001b[0m\n",
      "\u001b[1;32mD:\\soft\\dev\\anaconda\\lib\\site-packages\\sklearn\\linear_model\\base.pyc\u001b[0m in \u001b[0;36m_predict_proba_lr\u001b[1;34m(self, X)\u001b[0m\n\u001b[0;32m    280\u001b[0m         \u001b[0mmulticlass\u001b[0m \u001b[1;32mis\u001b[0m \u001b[0mhandled\u001b[0m \u001b[0mby\u001b[0m \u001b[0mnormalizing\u001b[0m \u001b[0mthat\u001b[0m \u001b[0mover\u001b[0m \u001b[0mall\u001b[0m \u001b[0mclasses\u001b[0m\u001b[1;33m.\u001b[0m\u001b[1;33m\u001b[0m\u001b[0m\n\u001b[0;32m    281\u001b[0m         \"\"\"\n\u001b[1;32m--> 282\u001b[1;33m         \u001b[0mprob\u001b[0m \u001b[1;33m=\u001b[0m \u001b[0mself\u001b[0m\u001b[1;33m.\u001b[0m\u001b[0mdecision_function\u001b[0m\u001b[1;33m(\u001b[0m\u001b[0mX\u001b[0m\u001b[1;33m)\u001b[0m\u001b[1;33m\u001b[0m\u001b[0m\n\u001b[0m\u001b[0;32m    283\u001b[0m         \u001b[0mprob\u001b[0m \u001b[1;33m*=\u001b[0m \u001b[1;33m-\u001b[0m\u001b[1;36m1\u001b[0m\u001b[1;33m\u001b[0m\u001b[0m\n\u001b[0;32m    284\u001b[0m         \u001b[0mnp\u001b[0m\u001b[1;33m.\u001b[0m\u001b[0mexp\u001b[0m\u001b[1;33m(\u001b[0m\u001b[0mprob\u001b[0m\u001b[1;33m,\u001b[0m \u001b[0mprob\u001b[0m\u001b[1;33m)\u001b[0m\u001b[1;33m\u001b[0m\u001b[0m\n",
      "\u001b[1;32mD:\\soft\\dev\\anaconda\\lib\\site-packages\\sklearn\\linear_model\\base.pyc\u001b[0m in \u001b[0;36mdecision_function\u001b[1;34m(self, X)\u001b[0m\n\u001b[0;32m    247\u001b[0m         \u001b[1;32mif\u001b[0m \u001b[0mX\u001b[0m\u001b[1;33m.\u001b[0m\u001b[0mshape\u001b[0m\u001b[1;33m[\u001b[0m\u001b[1;36m1\u001b[0m\u001b[1;33m]\u001b[0m \u001b[1;33m!=\u001b[0m \u001b[0mn_features\u001b[0m\u001b[1;33m:\u001b[0m\u001b[1;33m\u001b[0m\u001b[0m\n\u001b[0;32m    248\u001b[0m             raise ValueError(\"X has %d features per sample; expecting %d\"\n\u001b[1;32m--> 249\u001b[1;33m                              % (X.shape[1], n_features))\n\u001b[0m\u001b[0;32m    250\u001b[0m \u001b[1;33m\u001b[0m\u001b[0m\n\u001b[0;32m    251\u001b[0m         scores = safe_sparse_dot(X, self.coef_.T,\n",
      "\u001b[1;31mValueError\u001b[0m: X has 21 features per sample; expecting 42"
     ]
    }
   ],
   "source": [
    "# 0.69119\n",
    "clf = LogisticRegression(C=5.1020897959183671, class_weight=None, dual=False,\n",
    "          fit_intercept=True, intercept_scaling=1, max_iter=100,\n",
    "          multi_class='ovr', n_jobs=-1, penalty='l2', random_state=42,\n",
    "          solver='sag', tol=0.1, verbose=0, warm_start=False)\n",
    "\n",
    "X = normalize_df(X, X.columns)\n",
    "X_real = test_data.drop(['t_id'], axis=1)\n",
    "X_real = normalize_df(X_real, X_real.columns)\n",
    "id_real = pd.DataFrame(test_data['t_id'].copy())\n",
    "\n",
    "ans = get_ans(clf, X, y, X_real, id_real)\n",
    "ans.to_csv('test_ans.csv', index=False)"
   ]
  },
  {
   "cell_type": "code",
   "execution_count": 14,
   "metadata": {
    "collapsed": true
   },
   "outputs": [],
   "source": [
    "## Sorted with swup"
   ]
  },
  {
   "cell_type": "code",
   "execution_count": 22,
   "metadata": {
    "collapsed": false
   },
   "outputs": [],
   "source": [
    "def get_sorted_data_with_swap(data, feature):\n",
    "    sorted_data = data.sort(columns=feature).copy()\n",
    "    X = sorted_data.drop('target', axis=1) if 'target' in sorted_data.columns else sorted_data\n",
    "    y = []\n",
    "    rows = X.shape[0]\n",
    "    y = sorted_data['target'] if 'target' in data else []\n",
    "    for col in X.columns:\n",
    "        if col == 't_id':\n",
    "            continue\n",
    "        feature_swapped = [0. for i in range(rows)] # np.zeros() дает друго результат о_0... хотя отличий быть не должно\n",
    "        for i in range(rows):\n",
    "            feature_swapped[i] = (X[col][(i - 1) % rows] + X[col][(i - 2) % rows]) / 2.\n",
    "        X['prev_' + col] = feature_swapped\n",
    "    return X, y"
   ]
  },
  {
   "cell_type": "code",
   "execution_count": 23,
   "metadata": {
    "collapsed": false
   },
   "outputs": [
    {
     "name": "stderr",
     "output_type": "stream",
     "text": [
      "D:\\soft\\dev\\anaconda\\lib\\site-packages\\IPython\\kernel\\__main__.py:2: FutureWarning: sort(columns=....) is deprecated, use sort_values(by=.....)\n",
      "  from IPython.kernel.zmq import kernelapp as app\n"
     ]
    }
   ],
   "source": [
    "X, y = get_sorted_data_with_swap(data, ['feature1'])\n",
    "X = normalize_df(X, X.columns)\n",
    "\n",
    "X_train, X_test, y_train, y_test = train_test_split(\n",
    "    X, y, test_size=0.20, random_state=random_state)"
   ]
  },
  {
   "cell_type": "code",
   "execution_count": 25,
   "metadata": {
    "collapsed": false
   },
   "outputs": [
    {
     "name": "stderr",
     "output_type": "stream",
     "text": [
      "[Parallel(n_jobs=-1)]: Done  42 tasks      | elapsed:    6.4s\n",
      "[Parallel(n_jobs=-1)]: Done 192 tasks      | elapsed:   35.9s\n",
      "[Parallel(n_jobs=-1)]: Done 442 tasks      | elapsed:  1.6min\n",
      "[Parallel(n_jobs=-1)]: Done 792 tasks      | elapsed:  2.9min\n",
      "[Parallel(n_jobs=-1)]: Done 1242 tasks      | elapsed:  4.7min\n",
      "[Parallel(n_jobs=-1)]: Done 1792 tasks      | elapsed:  6.8min\n",
      "[Parallel(n_jobs=-1)]: Done 2442 tasks      | elapsed:  9.2min\n",
      "[Parallel(n_jobs=-1)]: Done 3192 tasks      | elapsed: 12.2min\n",
      "[Parallel(n_jobs=-1)]: Done 4042 tasks      | elapsed: 15.5min\n",
      "[Parallel(n_jobs=-1)]: Done 4050 out of 4050 | elapsed: 15.5min finished\n"
     ]
    },
    {
     "name": "stdout",
     "output_type": "stream",
     "text": [
      "Fitting 3 folds for each of 1350 candidates, totalling 4050 fits\n",
      "best score: -0.691956340095\n",
      "best estimator:\n",
      "LogisticRegression(C=2.0409142857142859, class_weight=None, dual=False,\n",
      "          fit_intercept=True, intercept_scaling=1, max_iter=1000,\n",
      "          multi_class='ovr', n_jobs=-1, penalty='l2', random_state=42,\n",
      "          solver='lbfgs', tol=100, verbose=0, warm_start=False)\n",
      "log_loss: 0.691667414946\n"
     ]
    }
   ],
   "source": [
    "clf_log_reg = LogisticRegression(random_state=random_state, n_jobs=-1, max_iter=1000)\n",
    "\n",
    "param_grid = {\n",
    "    'penalty' : ['l2'], # 'l1'\n",
    "    'C': np.linspace(0.0001, 100.0, 50),\n",
    "    'tol': [0.00001, 0.0001, 0.0005, 0.001, 0.01, 0.1, 1, 10, 100],\n",
    "    'solver': ['newton-cg', 'lbfgs', 'sag']\n",
    "}\n",
    "\n",
    "clf = grid_search_clf(clf_log_reg, param_grid, X_train, y_train, show=True)\n",
    "print('log_loss: {0}'.format(clf_score(clf, X_test, y_test)))"
   ]
  },
  {
   "cell_type": "code",
   "execution_count": null,
   "metadata": {
    "collapsed": true
   },
   "outputs": [],
   "source": [
    "# feature 1: 0.691270907607 - the best\n",
    "# feature 1 with 2 prev: 0.691667414946  - bad\n",
    "# feature 6: 0.691390394556 - good\n",
    "# 19 and 6: log_loss: 0.691607982969 - bad\n",
    "# feature 19: 0.691901755334 - very bad\n",
    "# 6 and 19: 0.692073637757 - very very bad\n"
   ]
  }
 ],
 "metadata": {
  "kernelspec": {
   "display_name": "Python 2",
   "language": "python",
   "name": "python2"
  },
  "language_info": {
   "codemirror_mode": {
    "name": "ipython",
    "version": 2
   },
   "file_extension": ".py",
   "mimetype": "text/x-python",
   "name": "python",
   "nbconvert_exporter": "python",
   "pygments_lexer": "ipython2",
   "version": "2.7.11"
  }
 },
 "nbformat": 4,
 "nbformat_minor": 0
}
